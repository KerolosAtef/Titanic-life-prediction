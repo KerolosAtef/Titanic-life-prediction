{
  "nbformat": 4,
  "nbformat_minor": 0,
  "metadata": {
    "colab": {
      "name": "Titanic - Machine Learning from Disaster.ipynb",
      "provenance": []
    },
    "kernelspec": {
      "name": "python3",
      "display_name": "Python 3"
    },
    "language_info": {
      "name": "python"
    },
    "accelerator": "GPU"
  },
  "cells": [
    {
      "cell_type": "markdown",
      "source": [
        "#Install Kaggle"
      ],
      "metadata": {
        "id": "-485t3N4mTha"
      }
    },
    {
      "cell_type": "code",
      "execution_count": null,
      "metadata": {
        "colab": {
          "base_uri": "https://localhost:8080/"
        },
        "id": "OLwKG96PjvJl",
        "outputId": "4365876f-c254-40fd-d7ac-6b610aa22a9b"
      },
      "outputs": [
        {
          "output_type": "stream",
          "name": "stdout",
          "text": [
            "Downloading...\n",
            "From: https://drive.google.com/uc?id=11FrbjVv6rOQnzvF1VCIwLbVkUfHXND4m\n",
            "To: /content/kaggle.json\n",
            "\r  0% 0.00/67.0 [00:00<?, ?B/s]\r100% 67.0/67.0 [00:00<00:00, 62.2kB/s]\n",
            "Requirement already satisfied: kaggle in /usr/local/lib/python3.7/dist-packages (1.5.12)\n",
            "Requirement already satisfied: python-dateutil in /usr/local/lib/python3.7/dist-packages (from kaggle) (2.8.2)\n",
            "Requirement already satisfied: requests in /usr/local/lib/python3.7/dist-packages (from kaggle) (2.23.0)\n",
            "Requirement already satisfied: python-slugify in /usr/local/lib/python3.7/dist-packages (from kaggle) (5.0.2)\n",
            "Requirement already satisfied: urllib3 in /usr/local/lib/python3.7/dist-packages (from kaggle) (1.24.3)\n",
            "Requirement already satisfied: six>=1.10 in /usr/local/lib/python3.7/dist-packages (from kaggle) (1.15.0)\n",
            "Requirement already satisfied: tqdm in /usr/local/lib/python3.7/dist-packages (from kaggle) (4.62.3)\n",
            "Requirement already satisfied: certifi in /usr/local/lib/python3.7/dist-packages (from kaggle) (2021.10.8)\n",
            "Requirement already satisfied: text-unidecode>=1.3 in /usr/local/lib/python3.7/dist-packages (from python-slugify->kaggle) (1.3)\n",
            "Requirement already satisfied: idna<3,>=2.5 in /usr/local/lib/python3.7/dist-packages (from requests->kaggle) (2.10)\n",
            "Requirement already satisfied: chardet<4,>=3.0.2 in /usr/local/lib/python3.7/dist-packages (from requests->kaggle) (3.0.4)\n",
            "mkdir: cannot create directory ‘/root/.kaggle’: File exists\n"
          ]
        }
      ],
      "source": [
        "!gdown --id '11FrbjVv6rOQnzvF1VCIwLbVkUfHXND4m'\n",
        "! pip install kaggle\n",
        "! mkdir ~/.kaggle\n",
        "! cp kaggle.json ~/.kaggle/\n",
        "! chmod 600 ~/.kaggle/kaggle.json"
      ]
    },
    {
      "cell_type": "markdown",
      "source": [
        "#Download dataset files"
      ],
      "metadata": {
        "id": "zUTbvDQ7mfGE"
      }
    },
    {
      "cell_type": "code",
      "source": [
        "# Download dataset files\n",
        "!kaggle competitions download -c titanic\n",
        "# ! unzip credit-card-approval-prediction.zip"
      ],
      "metadata": {
        "colab": {
          "base_uri": "https://localhost:8080/"
        },
        "id": "P3dh1od0maDx",
        "outputId": "142fe262-a5f7-41ab-d43e-73edb2ec18ef"
      },
      "execution_count": null,
      "outputs": [
        {
          "output_type": "stream",
          "name": "stdout",
          "text": [
            "Warning: Looks like you're using an outdated API Version, please consider updating (server 1.5.12 / client 1.5.4)\n",
            "train.csv: Skipping, found more recently modified local copy (use --force to force download)\n",
            "gender_submission.csv: Skipping, found more recently modified local copy (use --force to force download)\n",
            "test.csv: Skipping, found more recently modified local copy (use --force to force download)\n"
          ]
        }
      ]
    },
    {
      "cell_type": "code",
      "source": [
        "import pandas as pd \n",
        "import matplotlib.pyplot as plt\n",
        "import numpy as np\n",
        "import seaborn as sns \n",
        "import tensorflow as tf \n",
        "%matplotlib inline \n"
      ],
      "metadata": {
        "id": "sew8rrtBmpKF"
      },
      "execution_count": null,
      "outputs": []
    },
    {
      "cell_type": "markdown",
      "source": [
        "#Invistigate dataset"
      ],
      "metadata": {
        "id": "cuTowylaxExw"
      }
    },
    {
      "cell_type": "code",
      "source": [
        "train_df=pd.read_csv('train.csv',index_col='PassengerId')\n",
        "train_df"
      ],
      "metadata": {
        "colab": {
          "base_uri": "https://localhost:8080/",
          "height": 455
        },
        "id": "rZU1kzYnm0Qu",
        "outputId": "2ca673a1-e652-41e8-87e1-d6219026375f"
      },
      "execution_count": null,
      "outputs": [
        {
          "output_type": "execute_result",
          "data": {
            "text/html": [
              "\n",
              "  <div id=\"df-3ca98cc3-5eb5-4b16-8673-bfeab16dc17c\">\n",
              "    <div class=\"colab-df-container\">\n",
              "      <div>\n",
              "<style scoped>\n",
              "    .dataframe tbody tr th:only-of-type {\n",
              "        vertical-align: middle;\n",
              "    }\n",
              "\n",
              "    .dataframe tbody tr th {\n",
              "        vertical-align: top;\n",
              "    }\n",
              "\n",
              "    .dataframe thead th {\n",
              "        text-align: right;\n",
              "    }\n",
              "</style>\n",
              "<table border=\"1\" class=\"dataframe\">\n",
              "  <thead>\n",
              "    <tr style=\"text-align: right;\">\n",
              "      <th></th>\n",
              "      <th>Survived</th>\n",
              "      <th>Pclass</th>\n",
              "      <th>Name</th>\n",
              "      <th>Sex</th>\n",
              "      <th>Age</th>\n",
              "      <th>SibSp</th>\n",
              "      <th>Parch</th>\n",
              "      <th>Ticket</th>\n",
              "      <th>Fare</th>\n",
              "      <th>Cabin</th>\n",
              "      <th>Embarked</th>\n",
              "    </tr>\n",
              "    <tr>\n",
              "      <th>PassengerId</th>\n",
              "      <th></th>\n",
              "      <th></th>\n",
              "      <th></th>\n",
              "      <th></th>\n",
              "      <th></th>\n",
              "      <th></th>\n",
              "      <th></th>\n",
              "      <th></th>\n",
              "      <th></th>\n",
              "      <th></th>\n",
              "      <th></th>\n",
              "    </tr>\n",
              "  </thead>\n",
              "  <tbody>\n",
              "    <tr>\n",
              "      <th>1</th>\n",
              "      <td>0</td>\n",
              "      <td>3</td>\n",
              "      <td>Braund, Mr. Owen Harris</td>\n",
              "      <td>male</td>\n",
              "      <td>22.0</td>\n",
              "      <td>1</td>\n",
              "      <td>0</td>\n",
              "      <td>A/5 21171</td>\n",
              "      <td>7.2500</td>\n",
              "      <td>NaN</td>\n",
              "      <td>S</td>\n",
              "    </tr>\n",
              "    <tr>\n",
              "      <th>2</th>\n",
              "      <td>1</td>\n",
              "      <td>1</td>\n",
              "      <td>Cumings, Mrs. John Bradley (Florence Briggs Th...</td>\n",
              "      <td>female</td>\n",
              "      <td>38.0</td>\n",
              "      <td>1</td>\n",
              "      <td>0</td>\n",
              "      <td>PC 17599</td>\n",
              "      <td>71.2833</td>\n",
              "      <td>C85</td>\n",
              "      <td>C</td>\n",
              "    </tr>\n",
              "    <tr>\n",
              "      <th>3</th>\n",
              "      <td>1</td>\n",
              "      <td>3</td>\n",
              "      <td>Heikkinen, Miss. Laina</td>\n",
              "      <td>female</td>\n",
              "      <td>26.0</td>\n",
              "      <td>0</td>\n",
              "      <td>0</td>\n",
              "      <td>STON/O2. 3101282</td>\n",
              "      <td>7.9250</td>\n",
              "      <td>NaN</td>\n",
              "      <td>S</td>\n",
              "    </tr>\n",
              "    <tr>\n",
              "      <th>4</th>\n",
              "      <td>1</td>\n",
              "      <td>1</td>\n",
              "      <td>Futrelle, Mrs. Jacques Heath (Lily May Peel)</td>\n",
              "      <td>female</td>\n",
              "      <td>35.0</td>\n",
              "      <td>1</td>\n",
              "      <td>0</td>\n",
              "      <td>113803</td>\n",
              "      <td>53.1000</td>\n",
              "      <td>C123</td>\n",
              "      <td>S</td>\n",
              "    </tr>\n",
              "    <tr>\n",
              "      <th>5</th>\n",
              "      <td>0</td>\n",
              "      <td>3</td>\n",
              "      <td>Allen, Mr. William Henry</td>\n",
              "      <td>male</td>\n",
              "      <td>35.0</td>\n",
              "      <td>0</td>\n",
              "      <td>0</td>\n",
              "      <td>373450</td>\n",
              "      <td>8.0500</td>\n",
              "      <td>NaN</td>\n",
              "      <td>S</td>\n",
              "    </tr>\n",
              "    <tr>\n",
              "      <th>...</th>\n",
              "      <td>...</td>\n",
              "      <td>...</td>\n",
              "      <td>...</td>\n",
              "      <td>...</td>\n",
              "      <td>...</td>\n",
              "      <td>...</td>\n",
              "      <td>...</td>\n",
              "      <td>...</td>\n",
              "      <td>...</td>\n",
              "      <td>...</td>\n",
              "      <td>...</td>\n",
              "    </tr>\n",
              "    <tr>\n",
              "      <th>887</th>\n",
              "      <td>0</td>\n",
              "      <td>2</td>\n",
              "      <td>Montvila, Rev. Juozas</td>\n",
              "      <td>male</td>\n",
              "      <td>27.0</td>\n",
              "      <td>0</td>\n",
              "      <td>0</td>\n",
              "      <td>211536</td>\n",
              "      <td>13.0000</td>\n",
              "      <td>NaN</td>\n",
              "      <td>S</td>\n",
              "    </tr>\n",
              "    <tr>\n",
              "      <th>888</th>\n",
              "      <td>1</td>\n",
              "      <td>1</td>\n",
              "      <td>Graham, Miss. Margaret Edith</td>\n",
              "      <td>female</td>\n",
              "      <td>19.0</td>\n",
              "      <td>0</td>\n",
              "      <td>0</td>\n",
              "      <td>112053</td>\n",
              "      <td>30.0000</td>\n",
              "      <td>B42</td>\n",
              "      <td>S</td>\n",
              "    </tr>\n",
              "    <tr>\n",
              "      <th>889</th>\n",
              "      <td>0</td>\n",
              "      <td>3</td>\n",
              "      <td>Johnston, Miss. Catherine Helen \"Carrie\"</td>\n",
              "      <td>female</td>\n",
              "      <td>NaN</td>\n",
              "      <td>1</td>\n",
              "      <td>2</td>\n",
              "      <td>W./C. 6607</td>\n",
              "      <td>23.4500</td>\n",
              "      <td>NaN</td>\n",
              "      <td>S</td>\n",
              "    </tr>\n",
              "    <tr>\n",
              "      <th>890</th>\n",
              "      <td>1</td>\n",
              "      <td>1</td>\n",
              "      <td>Behr, Mr. Karl Howell</td>\n",
              "      <td>male</td>\n",
              "      <td>26.0</td>\n",
              "      <td>0</td>\n",
              "      <td>0</td>\n",
              "      <td>111369</td>\n",
              "      <td>30.0000</td>\n",
              "      <td>C148</td>\n",
              "      <td>C</td>\n",
              "    </tr>\n",
              "    <tr>\n",
              "      <th>891</th>\n",
              "      <td>0</td>\n",
              "      <td>3</td>\n",
              "      <td>Dooley, Mr. Patrick</td>\n",
              "      <td>male</td>\n",
              "      <td>32.0</td>\n",
              "      <td>0</td>\n",
              "      <td>0</td>\n",
              "      <td>370376</td>\n",
              "      <td>7.7500</td>\n",
              "      <td>NaN</td>\n",
              "      <td>Q</td>\n",
              "    </tr>\n",
              "  </tbody>\n",
              "</table>\n",
              "<p>891 rows × 11 columns</p>\n",
              "</div>\n",
              "      <button class=\"colab-df-convert\" onclick=\"convertToInteractive('df-3ca98cc3-5eb5-4b16-8673-bfeab16dc17c')\"\n",
              "              title=\"Convert this dataframe to an interactive table.\"\n",
              "              style=\"display:none;\">\n",
              "        \n",
              "  <svg xmlns=\"http://www.w3.org/2000/svg\" height=\"24px\"viewBox=\"0 0 24 24\"\n",
              "       width=\"24px\">\n",
              "    <path d=\"M0 0h24v24H0V0z\" fill=\"none\"/>\n",
              "    <path d=\"M18.56 5.44l.94 2.06.94-2.06 2.06-.94-2.06-.94-.94-2.06-.94 2.06-2.06.94zm-11 1L8.5 8.5l.94-2.06 2.06-.94-2.06-.94L8.5 2.5l-.94 2.06-2.06.94zm10 10l.94 2.06.94-2.06 2.06-.94-2.06-.94-.94-2.06-.94 2.06-2.06.94z\"/><path d=\"M17.41 7.96l-1.37-1.37c-.4-.4-.92-.59-1.43-.59-.52 0-1.04.2-1.43.59L10.3 9.45l-7.72 7.72c-.78.78-.78 2.05 0 2.83L4 21.41c.39.39.9.59 1.41.59.51 0 1.02-.2 1.41-.59l7.78-7.78 2.81-2.81c.8-.78.8-2.07 0-2.86zM5.41 20L4 18.59l7.72-7.72 1.47 1.35L5.41 20z\"/>\n",
              "  </svg>\n",
              "      </button>\n",
              "      \n",
              "  <style>\n",
              "    .colab-df-container {\n",
              "      display:flex;\n",
              "      flex-wrap:wrap;\n",
              "      gap: 12px;\n",
              "    }\n",
              "\n",
              "    .colab-df-convert {\n",
              "      background-color: #E8F0FE;\n",
              "      border: none;\n",
              "      border-radius: 50%;\n",
              "      cursor: pointer;\n",
              "      display: none;\n",
              "      fill: #1967D2;\n",
              "      height: 32px;\n",
              "      padding: 0 0 0 0;\n",
              "      width: 32px;\n",
              "    }\n",
              "\n",
              "    .colab-df-convert:hover {\n",
              "      background-color: #E2EBFA;\n",
              "      box-shadow: 0px 1px 2px rgba(60, 64, 67, 0.3), 0px 1px 3px 1px rgba(60, 64, 67, 0.15);\n",
              "      fill: #174EA6;\n",
              "    }\n",
              "\n",
              "    [theme=dark] .colab-df-convert {\n",
              "      background-color: #3B4455;\n",
              "      fill: #D2E3FC;\n",
              "    }\n",
              "\n",
              "    [theme=dark] .colab-df-convert:hover {\n",
              "      background-color: #434B5C;\n",
              "      box-shadow: 0px 1px 3px 1px rgba(0, 0, 0, 0.15);\n",
              "      filter: drop-shadow(0px 1px 2px rgba(0, 0, 0, 0.3));\n",
              "      fill: #FFFFFF;\n",
              "    }\n",
              "  </style>\n",
              "\n",
              "      <script>\n",
              "        const buttonEl =\n",
              "          document.querySelector('#df-3ca98cc3-5eb5-4b16-8673-bfeab16dc17c button.colab-df-convert');\n",
              "        buttonEl.style.display =\n",
              "          google.colab.kernel.accessAllowed ? 'block' : 'none';\n",
              "\n",
              "        async function convertToInteractive(key) {\n",
              "          const element = document.querySelector('#df-3ca98cc3-5eb5-4b16-8673-bfeab16dc17c');\n",
              "          const dataTable =\n",
              "            await google.colab.kernel.invokeFunction('convertToInteractive',\n",
              "                                                     [key], {});\n",
              "          if (!dataTable) return;\n",
              "\n",
              "          const docLinkHtml = 'Like what you see? Visit the ' +\n",
              "            '<a target=\"_blank\" href=https://colab.research.google.com/notebooks/data_table.ipynb>data table notebook</a>'\n",
              "            + ' to learn more about interactive tables.';\n",
              "          element.innerHTML = '';\n",
              "          dataTable['output_type'] = 'display_data';\n",
              "          await google.colab.output.renderOutput(dataTable, element);\n",
              "          const docLink = document.createElement('div');\n",
              "          docLink.innerHTML = docLinkHtml;\n",
              "          element.appendChild(docLink);\n",
              "        }\n",
              "      </script>\n",
              "    </div>\n",
              "  </div>\n",
              "  "
            ],
            "text/plain": [
              "             Survived  Pclass  ... Cabin Embarked\n",
              "PassengerId                    ...               \n",
              "1                   0       3  ...   NaN        S\n",
              "2                   1       1  ...   C85        C\n",
              "3                   1       3  ...   NaN        S\n",
              "4                   1       1  ...  C123        S\n",
              "5                   0       3  ...   NaN        S\n",
              "...               ...     ...  ...   ...      ...\n",
              "887                 0       2  ...   NaN        S\n",
              "888                 1       1  ...   B42        S\n",
              "889                 0       3  ...   NaN        S\n",
              "890                 1       1  ...  C148        C\n",
              "891                 0       3  ...   NaN        Q\n",
              "\n",
              "[891 rows x 11 columns]"
            ]
          },
          "metadata": {},
          "execution_count": 66
        }
      ]
    },
    {
      "cell_type": "code",
      "source": [
        "train_df['Ticket']=train_df['Ticket'].apply(lambda x : x.split(' ')[-1] if len(x.split(' ')) >=2 else x)\n",
        "train_df['Ticket']=train_df['Ticket'].apply(lambda x : x if x[0].isdigit() else np.NAN)"
      ],
      "metadata": {
        "id": "0YJb2_L1z2Ry"
      },
      "execution_count": null,
      "outputs": []
    },
    {
      "cell_type": "markdown",
      "source": [
        "Name ,Ticket columns are unnessecary ,so i will drop them"
      ],
      "metadata": {
        "id": "E8MdY1pw85lm"
      }
    },
    {
      "cell_type": "code",
      "source": [
        "train_df=train_df.drop(['Name'],axis=1)\n",
        "# train_df=train_df.drop(['Name','Ticket'],axis=1)\n",
        "train_df"
      ],
      "metadata": {
        "colab": {
          "base_uri": "https://localhost:8080/",
          "height": 455
        },
        "id": "itgkLlEU3Xg6",
        "outputId": "bb17a9fc-43c6-4755-ab01-5ddaa79a12b1"
      },
      "execution_count": null,
      "outputs": [
        {
          "output_type": "execute_result",
          "data": {
            "text/html": [
              "\n",
              "  <div id=\"df-5fd7dbe6-b293-4215-870d-be94ddd7d0ce\">\n",
              "    <div class=\"colab-df-container\">\n",
              "      <div>\n",
              "<style scoped>\n",
              "    .dataframe tbody tr th:only-of-type {\n",
              "        vertical-align: middle;\n",
              "    }\n",
              "\n",
              "    .dataframe tbody tr th {\n",
              "        vertical-align: top;\n",
              "    }\n",
              "\n",
              "    .dataframe thead th {\n",
              "        text-align: right;\n",
              "    }\n",
              "</style>\n",
              "<table border=\"1\" class=\"dataframe\">\n",
              "  <thead>\n",
              "    <tr style=\"text-align: right;\">\n",
              "      <th></th>\n",
              "      <th>Survived</th>\n",
              "      <th>Pclass</th>\n",
              "      <th>Sex</th>\n",
              "      <th>Age</th>\n",
              "      <th>SibSp</th>\n",
              "      <th>Parch</th>\n",
              "      <th>Ticket</th>\n",
              "      <th>Fare</th>\n",
              "      <th>Cabin</th>\n",
              "      <th>Embarked</th>\n",
              "    </tr>\n",
              "    <tr>\n",
              "      <th>PassengerId</th>\n",
              "      <th></th>\n",
              "      <th></th>\n",
              "      <th></th>\n",
              "      <th></th>\n",
              "      <th></th>\n",
              "      <th></th>\n",
              "      <th></th>\n",
              "      <th></th>\n",
              "      <th></th>\n",
              "      <th></th>\n",
              "    </tr>\n",
              "  </thead>\n",
              "  <tbody>\n",
              "    <tr>\n",
              "      <th>1</th>\n",
              "      <td>0</td>\n",
              "      <td>3</td>\n",
              "      <td>male</td>\n",
              "      <td>22.0</td>\n",
              "      <td>1</td>\n",
              "      <td>0</td>\n",
              "      <td>21171</td>\n",
              "      <td>7.2500</td>\n",
              "      <td>NaN</td>\n",
              "      <td>S</td>\n",
              "    </tr>\n",
              "    <tr>\n",
              "      <th>2</th>\n",
              "      <td>1</td>\n",
              "      <td>1</td>\n",
              "      <td>female</td>\n",
              "      <td>38.0</td>\n",
              "      <td>1</td>\n",
              "      <td>0</td>\n",
              "      <td>17599</td>\n",
              "      <td>71.2833</td>\n",
              "      <td>C85</td>\n",
              "      <td>C</td>\n",
              "    </tr>\n",
              "    <tr>\n",
              "      <th>3</th>\n",
              "      <td>1</td>\n",
              "      <td>3</td>\n",
              "      <td>female</td>\n",
              "      <td>26.0</td>\n",
              "      <td>0</td>\n",
              "      <td>0</td>\n",
              "      <td>3101282</td>\n",
              "      <td>7.9250</td>\n",
              "      <td>NaN</td>\n",
              "      <td>S</td>\n",
              "    </tr>\n",
              "    <tr>\n",
              "      <th>4</th>\n",
              "      <td>1</td>\n",
              "      <td>1</td>\n",
              "      <td>female</td>\n",
              "      <td>35.0</td>\n",
              "      <td>1</td>\n",
              "      <td>0</td>\n",
              "      <td>113803</td>\n",
              "      <td>53.1000</td>\n",
              "      <td>C123</td>\n",
              "      <td>S</td>\n",
              "    </tr>\n",
              "    <tr>\n",
              "      <th>5</th>\n",
              "      <td>0</td>\n",
              "      <td>3</td>\n",
              "      <td>male</td>\n",
              "      <td>35.0</td>\n",
              "      <td>0</td>\n",
              "      <td>0</td>\n",
              "      <td>373450</td>\n",
              "      <td>8.0500</td>\n",
              "      <td>NaN</td>\n",
              "      <td>S</td>\n",
              "    </tr>\n",
              "    <tr>\n",
              "      <th>...</th>\n",
              "      <td>...</td>\n",
              "      <td>...</td>\n",
              "      <td>...</td>\n",
              "      <td>...</td>\n",
              "      <td>...</td>\n",
              "      <td>...</td>\n",
              "      <td>...</td>\n",
              "      <td>...</td>\n",
              "      <td>...</td>\n",
              "      <td>...</td>\n",
              "    </tr>\n",
              "    <tr>\n",
              "      <th>887</th>\n",
              "      <td>0</td>\n",
              "      <td>2</td>\n",
              "      <td>male</td>\n",
              "      <td>27.0</td>\n",
              "      <td>0</td>\n",
              "      <td>0</td>\n",
              "      <td>211536</td>\n",
              "      <td>13.0000</td>\n",
              "      <td>NaN</td>\n",
              "      <td>S</td>\n",
              "    </tr>\n",
              "    <tr>\n",
              "      <th>888</th>\n",
              "      <td>1</td>\n",
              "      <td>1</td>\n",
              "      <td>female</td>\n",
              "      <td>19.0</td>\n",
              "      <td>0</td>\n",
              "      <td>0</td>\n",
              "      <td>112053</td>\n",
              "      <td>30.0000</td>\n",
              "      <td>B42</td>\n",
              "      <td>S</td>\n",
              "    </tr>\n",
              "    <tr>\n",
              "      <th>889</th>\n",
              "      <td>0</td>\n",
              "      <td>3</td>\n",
              "      <td>female</td>\n",
              "      <td>NaN</td>\n",
              "      <td>1</td>\n",
              "      <td>2</td>\n",
              "      <td>6607</td>\n",
              "      <td>23.4500</td>\n",
              "      <td>NaN</td>\n",
              "      <td>S</td>\n",
              "    </tr>\n",
              "    <tr>\n",
              "      <th>890</th>\n",
              "      <td>1</td>\n",
              "      <td>1</td>\n",
              "      <td>male</td>\n",
              "      <td>26.0</td>\n",
              "      <td>0</td>\n",
              "      <td>0</td>\n",
              "      <td>111369</td>\n",
              "      <td>30.0000</td>\n",
              "      <td>C148</td>\n",
              "      <td>C</td>\n",
              "    </tr>\n",
              "    <tr>\n",
              "      <th>891</th>\n",
              "      <td>0</td>\n",
              "      <td>3</td>\n",
              "      <td>male</td>\n",
              "      <td>32.0</td>\n",
              "      <td>0</td>\n",
              "      <td>0</td>\n",
              "      <td>370376</td>\n",
              "      <td>7.7500</td>\n",
              "      <td>NaN</td>\n",
              "      <td>Q</td>\n",
              "    </tr>\n",
              "  </tbody>\n",
              "</table>\n",
              "<p>891 rows × 10 columns</p>\n",
              "</div>\n",
              "      <button class=\"colab-df-convert\" onclick=\"convertToInteractive('df-5fd7dbe6-b293-4215-870d-be94ddd7d0ce')\"\n",
              "              title=\"Convert this dataframe to an interactive table.\"\n",
              "              style=\"display:none;\">\n",
              "        \n",
              "  <svg xmlns=\"http://www.w3.org/2000/svg\" height=\"24px\"viewBox=\"0 0 24 24\"\n",
              "       width=\"24px\">\n",
              "    <path d=\"M0 0h24v24H0V0z\" fill=\"none\"/>\n",
              "    <path d=\"M18.56 5.44l.94 2.06.94-2.06 2.06-.94-2.06-.94-.94-2.06-.94 2.06-2.06.94zm-11 1L8.5 8.5l.94-2.06 2.06-.94-2.06-.94L8.5 2.5l-.94 2.06-2.06.94zm10 10l.94 2.06.94-2.06 2.06-.94-2.06-.94-.94-2.06-.94 2.06-2.06.94z\"/><path d=\"M17.41 7.96l-1.37-1.37c-.4-.4-.92-.59-1.43-.59-.52 0-1.04.2-1.43.59L10.3 9.45l-7.72 7.72c-.78.78-.78 2.05 0 2.83L4 21.41c.39.39.9.59 1.41.59.51 0 1.02-.2 1.41-.59l7.78-7.78 2.81-2.81c.8-.78.8-2.07 0-2.86zM5.41 20L4 18.59l7.72-7.72 1.47 1.35L5.41 20z\"/>\n",
              "  </svg>\n",
              "      </button>\n",
              "      \n",
              "  <style>\n",
              "    .colab-df-container {\n",
              "      display:flex;\n",
              "      flex-wrap:wrap;\n",
              "      gap: 12px;\n",
              "    }\n",
              "\n",
              "    .colab-df-convert {\n",
              "      background-color: #E8F0FE;\n",
              "      border: none;\n",
              "      border-radius: 50%;\n",
              "      cursor: pointer;\n",
              "      display: none;\n",
              "      fill: #1967D2;\n",
              "      height: 32px;\n",
              "      padding: 0 0 0 0;\n",
              "      width: 32px;\n",
              "    }\n",
              "\n",
              "    .colab-df-convert:hover {\n",
              "      background-color: #E2EBFA;\n",
              "      box-shadow: 0px 1px 2px rgba(60, 64, 67, 0.3), 0px 1px 3px 1px rgba(60, 64, 67, 0.15);\n",
              "      fill: #174EA6;\n",
              "    }\n",
              "\n",
              "    [theme=dark] .colab-df-convert {\n",
              "      background-color: #3B4455;\n",
              "      fill: #D2E3FC;\n",
              "    }\n",
              "\n",
              "    [theme=dark] .colab-df-convert:hover {\n",
              "      background-color: #434B5C;\n",
              "      box-shadow: 0px 1px 3px 1px rgba(0, 0, 0, 0.15);\n",
              "      filter: drop-shadow(0px 1px 2px rgba(0, 0, 0, 0.3));\n",
              "      fill: #FFFFFF;\n",
              "    }\n",
              "  </style>\n",
              "\n",
              "      <script>\n",
              "        const buttonEl =\n",
              "          document.querySelector('#df-5fd7dbe6-b293-4215-870d-be94ddd7d0ce button.colab-df-convert');\n",
              "        buttonEl.style.display =\n",
              "          google.colab.kernel.accessAllowed ? 'block' : 'none';\n",
              "\n",
              "        async function convertToInteractive(key) {\n",
              "          const element = document.querySelector('#df-5fd7dbe6-b293-4215-870d-be94ddd7d0ce');\n",
              "          const dataTable =\n",
              "            await google.colab.kernel.invokeFunction('convertToInteractive',\n",
              "                                                     [key], {});\n",
              "          if (!dataTable) return;\n",
              "\n",
              "          const docLinkHtml = 'Like what you see? Visit the ' +\n",
              "            '<a target=\"_blank\" href=https://colab.research.google.com/notebooks/data_table.ipynb>data table notebook</a>'\n",
              "            + ' to learn more about interactive tables.';\n",
              "          element.innerHTML = '';\n",
              "          dataTable['output_type'] = 'display_data';\n",
              "          await google.colab.output.renderOutput(dataTable, element);\n",
              "          const docLink = document.createElement('div');\n",
              "          docLink.innerHTML = docLinkHtml;\n",
              "          element.appendChild(docLink);\n",
              "        }\n",
              "      </script>\n",
              "    </div>\n",
              "  </div>\n",
              "  "
            ],
            "text/plain": [
              "             Survived  Pclass     Sex   Age  ...   Ticket     Fare Cabin  Embarked\n",
              "PassengerId                                  ...                                  \n",
              "1                   0       3    male  22.0  ...    21171   7.2500   NaN         S\n",
              "2                   1       1  female  38.0  ...    17599  71.2833   C85         C\n",
              "3                   1       3  female  26.0  ...  3101282   7.9250   NaN         S\n",
              "4                   1       1  female  35.0  ...   113803  53.1000  C123         S\n",
              "5                   0       3    male  35.0  ...   373450   8.0500   NaN         S\n",
              "...               ...     ...     ...   ...  ...      ...      ...   ...       ...\n",
              "887                 0       2    male  27.0  ...   211536  13.0000   NaN         S\n",
              "888                 1       1  female  19.0  ...   112053  30.0000   B42         S\n",
              "889                 0       3  female   NaN  ...     6607  23.4500   NaN         S\n",
              "890                 1       1    male  26.0  ...   111369  30.0000  C148         C\n",
              "891                 0       3    male  32.0  ...   370376   7.7500   NaN         Q\n",
              "\n",
              "[891 rows x 10 columns]"
            ]
          },
          "metadata": {},
          "execution_count": 68
        }
      ]
    },
    {
      "cell_type": "code",
      "source": [
        "train_df.info()"
      ],
      "metadata": {
        "colab": {
          "base_uri": "https://localhost:8080/"
        },
        "id": "9GhN_kauD8M0",
        "outputId": "3a8e5b40-78cc-4ab1-a0fa-f49bc71d2d17"
      },
      "execution_count": null,
      "outputs": [
        {
          "output_type": "stream",
          "name": "stdout",
          "text": [
            "<class 'pandas.core.frame.DataFrame'>\n",
            "Int64Index: 891 entries, 1 to 891\n",
            "Data columns (total 10 columns):\n",
            " #   Column    Non-Null Count  Dtype  \n",
            "---  ------    --------------  -----  \n",
            " 0   Survived  891 non-null    int64  \n",
            " 1   Pclass    891 non-null    int64  \n",
            " 2   Sex       891 non-null    object \n",
            " 3   Age       714 non-null    float64\n",
            " 4   SibSp     891 non-null    int64  \n",
            " 5   Parch     891 non-null    int64  \n",
            " 6   Ticket    887 non-null    object \n",
            " 7   Fare      891 non-null    float64\n",
            " 8   Cabin     204 non-null    object \n",
            " 9   Embarked  889 non-null    object \n",
            "dtypes: float64(2), int64(4), object(4)\n",
            "memory usage: 76.6+ KB\n"
          ]
        }
      ]
    },
    {
      "cell_type": "markdown",
      "source": [
        "There is 204 available information from Cabin column and about 700 null values ,so its exisance is unnessecary "
      ],
      "metadata": {
        "id": "HBO5Znd2ypx-"
      }
    },
    {
      "cell_type": "code",
      "source": [
        "train_df=train_df.drop('Cabin',axis=1)"
      ],
      "metadata": {
        "id": "bFBAyX21ELbM"
      },
      "execution_count": null,
      "outputs": []
    },
    {
      "cell_type": "code",
      "source": [
        "train_df.info()"
      ],
      "metadata": {
        "colab": {
          "base_uri": "https://localhost:8080/"
        },
        "id": "X6KQnLgQzYYH",
        "outputId": "9dea848d-5231-428e-80b1-0a4664dd89ea"
      },
      "execution_count": null,
      "outputs": [
        {
          "output_type": "stream",
          "name": "stdout",
          "text": [
            "<class 'pandas.core.frame.DataFrame'>\n",
            "Int64Index: 891 entries, 1 to 891\n",
            "Data columns (total 9 columns):\n",
            " #   Column    Non-Null Count  Dtype  \n",
            "---  ------    --------------  -----  \n",
            " 0   Survived  891 non-null    int64  \n",
            " 1   Pclass    891 non-null    int64  \n",
            " 2   Sex       891 non-null    object \n",
            " 3   Age       714 non-null    float64\n",
            " 4   SibSp     891 non-null    int64  \n",
            " 5   Parch     891 non-null    int64  \n",
            " 6   Ticket    887 non-null    object \n",
            " 7   Fare      891 non-null    float64\n",
            " 8   Embarked  889 non-null    object \n",
            "dtypes: float64(2), int64(4), object(3)\n",
            "memory usage: 69.6+ KB\n"
          ]
        }
      ]
    },
    {
      "cell_type": "markdown",
      "source": [
        "#Check duplication"
      ],
      "metadata": {
        "id": "A1J_8PuJ2Vke"
      }
    },
    {
      "cell_type": "code",
      "source": [
        "train_df.duplicated().sum()\n"
      ],
      "metadata": {
        "colab": {
          "base_uri": "https://localhost:8080/"
        },
        "id": "eNu2GQqe2Zcn",
        "outputId": "71273c14-fd76-4eb8-bb58-081ec7c7d056"
      },
      "execution_count": null,
      "outputs": [
        {
          "output_type": "execute_result",
          "data": {
            "text/plain": [
              "15"
            ]
          },
          "metadata": {},
          "execution_count": 72
        }
      ]
    },
    {
      "cell_type": "code",
      "source": [
        "train_df.drop_duplicates(inplace=True)\n",
        "train_df.info()"
      ],
      "metadata": {
        "colab": {
          "base_uri": "https://localhost:8080/"
        },
        "id": "ZknVlfmt2xLS",
        "outputId": "f1706eee-fb13-438d-ce4d-633f7e4e28ae"
      },
      "execution_count": null,
      "outputs": [
        {
          "output_type": "stream",
          "name": "stdout",
          "text": [
            "<class 'pandas.core.frame.DataFrame'>\n",
            "Int64Index: 876 entries, 1 to 891\n",
            "Data columns (total 9 columns):\n",
            " #   Column    Non-Null Count  Dtype  \n",
            "---  ------    --------------  -----  \n",
            " 0   Survived  876 non-null    int64  \n",
            " 1   Pclass    876 non-null    int64  \n",
            " 2   Sex       876 non-null    object \n",
            " 3   Age       711 non-null    float64\n",
            " 4   SibSp     876 non-null    int64  \n",
            " 5   Parch     876 non-null    int64  \n",
            " 6   Ticket    872 non-null    object \n",
            " 7   Fare      876 non-null    float64\n",
            " 8   Embarked  874 non-null    object \n",
            "dtypes: float64(2), int64(4), object(3)\n",
            "memory usage: 68.4+ KB\n"
          ]
        }
      ]
    },
    {
      "cell_type": "markdown",
      "source": [
        "#Dealing with missing values\n",
        "Age column will fill with its mean and Embarked column will fill with its mode value"
      ],
      "metadata": {
        "id": "usuuIYKAziKB"
      }
    },
    {
      "cell_type": "code",
      "source": [
        "from sklearn.impute import SimpleImputer\n",
        "\n",
        "numirical_imputer=SimpleImputer(strategy='median')\n",
        "categorical_imputer=SimpleImputer(strategy='most_frequent')\n",
        "train_df[['Age','Parch','Ticket']]=numirical_imputer.fit_transform(train_df[['Age','Parch','Ticket']])\n",
        "train_df[['Embarked','Sex','Fare']]=categorical_imputer.fit_transform(train_df[['Embarked','Sex','Fare']])\n",
        "# train_df['Age'].fillna(train_df['Age'].mean(),inplace=True)\n",
        "# mode_of_embardked=train_df['Embarked'].mode()[0]\n",
        "# print(mode_of_embardked)\n",
        "# train_df['Embarked'].fillna(mode_of_embardked,inplace=True)\n",
        "train_df.info()"
      ],
      "metadata": {
        "colab": {
          "base_uri": "https://localhost:8080/"
        },
        "id": "djj3ozNAzdti",
        "outputId": "b89dd509-a5f7-4440-ec1e-83f3dcfb2b99"
      },
      "execution_count": null,
      "outputs": [
        {
          "output_type": "stream",
          "name": "stdout",
          "text": [
            "<class 'pandas.core.frame.DataFrame'>\n",
            "Int64Index: 876 entries, 1 to 891\n",
            "Data columns (total 9 columns):\n",
            " #   Column    Non-Null Count  Dtype  \n",
            "---  ------    --------------  -----  \n",
            " 0   Survived  876 non-null    int64  \n",
            " 1   Pclass    876 non-null    int64  \n",
            " 2   Sex       876 non-null    object \n",
            " 3   Age       876 non-null    float64\n",
            " 4   SibSp     876 non-null    int64  \n",
            " 5   Parch     876 non-null    float64\n",
            " 6   Ticket    876 non-null    float64\n",
            " 7   Fare      876 non-null    float64\n",
            " 8   Embarked  876 non-null    object \n",
            "dtypes: float64(4), int64(3), object(2)\n",
            "memory usage: 68.4+ KB\n"
          ]
        }
      ]
    },
    {
      "cell_type": "code",
      "source": [
        "train_df"
      ],
      "metadata": {
        "colab": {
          "base_uri": "https://localhost:8080/",
          "height": 455
        },
        "id": "4def7LhXTLPd",
        "outputId": "ec6b391c-e528-4b7e-d6f5-6c9813e8dc98"
      },
      "execution_count": null,
      "outputs": [
        {
          "output_type": "execute_result",
          "data": {
            "text/html": [
              "\n",
              "  <div id=\"df-a45d71cd-d69b-4eb3-b07e-4a45592e465e\">\n",
              "    <div class=\"colab-df-container\">\n",
              "      <div>\n",
              "<style scoped>\n",
              "    .dataframe tbody tr th:only-of-type {\n",
              "        vertical-align: middle;\n",
              "    }\n",
              "\n",
              "    .dataframe tbody tr th {\n",
              "        vertical-align: top;\n",
              "    }\n",
              "\n",
              "    .dataframe thead th {\n",
              "        text-align: right;\n",
              "    }\n",
              "</style>\n",
              "<table border=\"1\" class=\"dataframe\">\n",
              "  <thead>\n",
              "    <tr style=\"text-align: right;\">\n",
              "      <th></th>\n",
              "      <th>Survived</th>\n",
              "      <th>Pclass</th>\n",
              "      <th>Sex</th>\n",
              "      <th>Age</th>\n",
              "      <th>SibSp</th>\n",
              "      <th>Parch</th>\n",
              "      <th>Ticket</th>\n",
              "      <th>Fare</th>\n",
              "      <th>Embarked</th>\n",
              "    </tr>\n",
              "    <tr>\n",
              "      <th>PassengerId</th>\n",
              "      <th></th>\n",
              "      <th></th>\n",
              "      <th></th>\n",
              "      <th></th>\n",
              "      <th></th>\n",
              "      <th></th>\n",
              "      <th></th>\n",
              "      <th></th>\n",
              "      <th></th>\n",
              "    </tr>\n",
              "  </thead>\n",
              "  <tbody>\n",
              "    <tr>\n",
              "      <th>1</th>\n",
              "      <td>0</td>\n",
              "      <td>3</td>\n",
              "      <td>male</td>\n",
              "      <td>22.0</td>\n",
              "      <td>1</td>\n",
              "      <td>0.0</td>\n",
              "      <td>21171.0</td>\n",
              "      <td>7.2500</td>\n",
              "      <td>S</td>\n",
              "    </tr>\n",
              "    <tr>\n",
              "      <th>2</th>\n",
              "      <td>1</td>\n",
              "      <td>1</td>\n",
              "      <td>female</td>\n",
              "      <td>38.0</td>\n",
              "      <td>1</td>\n",
              "      <td>0.0</td>\n",
              "      <td>17599.0</td>\n",
              "      <td>71.2833</td>\n",
              "      <td>C</td>\n",
              "    </tr>\n",
              "    <tr>\n",
              "      <th>3</th>\n",
              "      <td>1</td>\n",
              "      <td>3</td>\n",
              "      <td>female</td>\n",
              "      <td>26.0</td>\n",
              "      <td>0</td>\n",
              "      <td>0.0</td>\n",
              "      <td>3101282.0</td>\n",
              "      <td>7.9250</td>\n",
              "      <td>S</td>\n",
              "    </tr>\n",
              "    <tr>\n",
              "      <th>4</th>\n",
              "      <td>1</td>\n",
              "      <td>1</td>\n",
              "      <td>female</td>\n",
              "      <td>35.0</td>\n",
              "      <td>1</td>\n",
              "      <td>0.0</td>\n",
              "      <td>113803.0</td>\n",
              "      <td>53.1000</td>\n",
              "      <td>S</td>\n",
              "    </tr>\n",
              "    <tr>\n",
              "      <th>5</th>\n",
              "      <td>0</td>\n",
              "      <td>3</td>\n",
              "      <td>male</td>\n",
              "      <td>35.0</td>\n",
              "      <td>0</td>\n",
              "      <td>0.0</td>\n",
              "      <td>373450.0</td>\n",
              "      <td>8.0500</td>\n",
              "      <td>S</td>\n",
              "    </tr>\n",
              "    <tr>\n",
              "      <th>...</th>\n",
              "      <td>...</td>\n",
              "      <td>...</td>\n",
              "      <td>...</td>\n",
              "      <td>...</td>\n",
              "      <td>...</td>\n",
              "      <td>...</td>\n",
              "      <td>...</td>\n",
              "      <td>...</td>\n",
              "      <td>...</td>\n",
              "    </tr>\n",
              "    <tr>\n",
              "      <th>887</th>\n",
              "      <td>0</td>\n",
              "      <td>2</td>\n",
              "      <td>male</td>\n",
              "      <td>27.0</td>\n",
              "      <td>0</td>\n",
              "      <td>0.0</td>\n",
              "      <td>211536.0</td>\n",
              "      <td>13.0000</td>\n",
              "      <td>S</td>\n",
              "    </tr>\n",
              "    <tr>\n",
              "      <th>888</th>\n",
              "      <td>1</td>\n",
              "      <td>1</td>\n",
              "      <td>female</td>\n",
              "      <td>19.0</td>\n",
              "      <td>0</td>\n",
              "      <td>0.0</td>\n",
              "      <td>112053.0</td>\n",
              "      <td>30.0000</td>\n",
              "      <td>S</td>\n",
              "    </tr>\n",
              "    <tr>\n",
              "      <th>889</th>\n",
              "      <td>0</td>\n",
              "      <td>3</td>\n",
              "      <td>female</td>\n",
              "      <td>28.0</td>\n",
              "      <td>1</td>\n",
              "      <td>2.0</td>\n",
              "      <td>6607.0</td>\n",
              "      <td>23.4500</td>\n",
              "      <td>S</td>\n",
              "    </tr>\n",
              "    <tr>\n",
              "      <th>890</th>\n",
              "      <td>1</td>\n",
              "      <td>1</td>\n",
              "      <td>male</td>\n",
              "      <td>26.0</td>\n",
              "      <td>0</td>\n",
              "      <td>0.0</td>\n",
              "      <td>111369.0</td>\n",
              "      <td>30.0000</td>\n",
              "      <td>C</td>\n",
              "    </tr>\n",
              "    <tr>\n",
              "      <th>891</th>\n",
              "      <td>0</td>\n",
              "      <td>3</td>\n",
              "      <td>male</td>\n",
              "      <td>32.0</td>\n",
              "      <td>0</td>\n",
              "      <td>0.0</td>\n",
              "      <td>370376.0</td>\n",
              "      <td>7.7500</td>\n",
              "      <td>Q</td>\n",
              "    </tr>\n",
              "  </tbody>\n",
              "</table>\n",
              "<p>876 rows × 9 columns</p>\n",
              "</div>\n",
              "      <button class=\"colab-df-convert\" onclick=\"convertToInteractive('df-a45d71cd-d69b-4eb3-b07e-4a45592e465e')\"\n",
              "              title=\"Convert this dataframe to an interactive table.\"\n",
              "              style=\"display:none;\">\n",
              "        \n",
              "  <svg xmlns=\"http://www.w3.org/2000/svg\" height=\"24px\"viewBox=\"0 0 24 24\"\n",
              "       width=\"24px\">\n",
              "    <path d=\"M0 0h24v24H0V0z\" fill=\"none\"/>\n",
              "    <path d=\"M18.56 5.44l.94 2.06.94-2.06 2.06-.94-2.06-.94-.94-2.06-.94 2.06-2.06.94zm-11 1L8.5 8.5l.94-2.06 2.06-.94-2.06-.94L8.5 2.5l-.94 2.06-2.06.94zm10 10l.94 2.06.94-2.06 2.06-.94-2.06-.94-.94-2.06-.94 2.06-2.06.94z\"/><path d=\"M17.41 7.96l-1.37-1.37c-.4-.4-.92-.59-1.43-.59-.52 0-1.04.2-1.43.59L10.3 9.45l-7.72 7.72c-.78.78-.78 2.05 0 2.83L4 21.41c.39.39.9.59 1.41.59.51 0 1.02-.2 1.41-.59l7.78-7.78 2.81-2.81c.8-.78.8-2.07 0-2.86zM5.41 20L4 18.59l7.72-7.72 1.47 1.35L5.41 20z\"/>\n",
              "  </svg>\n",
              "      </button>\n",
              "      \n",
              "  <style>\n",
              "    .colab-df-container {\n",
              "      display:flex;\n",
              "      flex-wrap:wrap;\n",
              "      gap: 12px;\n",
              "    }\n",
              "\n",
              "    .colab-df-convert {\n",
              "      background-color: #E8F0FE;\n",
              "      border: none;\n",
              "      border-radius: 50%;\n",
              "      cursor: pointer;\n",
              "      display: none;\n",
              "      fill: #1967D2;\n",
              "      height: 32px;\n",
              "      padding: 0 0 0 0;\n",
              "      width: 32px;\n",
              "    }\n",
              "\n",
              "    .colab-df-convert:hover {\n",
              "      background-color: #E2EBFA;\n",
              "      box-shadow: 0px 1px 2px rgba(60, 64, 67, 0.3), 0px 1px 3px 1px rgba(60, 64, 67, 0.15);\n",
              "      fill: #174EA6;\n",
              "    }\n",
              "\n",
              "    [theme=dark] .colab-df-convert {\n",
              "      background-color: #3B4455;\n",
              "      fill: #D2E3FC;\n",
              "    }\n",
              "\n",
              "    [theme=dark] .colab-df-convert:hover {\n",
              "      background-color: #434B5C;\n",
              "      box-shadow: 0px 1px 3px 1px rgba(0, 0, 0, 0.15);\n",
              "      filter: drop-shadow(0px 1px 2px rgba(0, 0, 0, 0.3));\n",
              "      fill: #FFFFFF;\n",
              "    }\n",
              "  </style>\n",
              "\n",
              "      <script>\n",
              "        const buttonEl =\n",
              "          document.querySelector('#df-a45d71cd-d69b-4eb3-b07e-4a45592e465e button.colab-df-convert');\n",
              "        buttonEl.style.display =\n",
              "          google.colab.kernel.accessAllowed ? 'block' : 'none';\n",
              "\n",
              "        async function convertToInteractive(key) {\n",
              "          const element = document.querySelector('#df-a45d71cd-d69b-4eb3-b07e-4a45592e465e');\n",
              "          const dataTable =\n",
              "            await google.colab.kernel.invokeFunction('convertToInteractive',\n",
              "                                                     [key], {});\n",
              "          if (!dataTable) return;\n",
              "\n",
              "          const docLinkHtml = 'Like what you see? Visit the ' +\n",
              "            '<a target=\"_blank\" href=https://colab.research.google.com/notebooks/data_table.ipynb>data table notebook</a>'\n",
              "            + ' to learn more about interactive tables.';\n",
              "          element.innerHTML = '';\n",
              "          dataTable['output_type'] = 'display_data';\n",
              "          await google.colab.output.renderOutput(dataTable, element);\n",
              "          const docLink = document.createElement('div');\n",
              "          docLink.innerHTML = docLinkHtml;\n",
              "          element.appendChild(docLink);\n",
              "        }\n",
              "      </script>\n",
              "    </div>\n",
              "  </div>\n",
              "  "
            ],
            "text/plain": [
              "             Survived  Pclass     Sex   Age  ...  Parch     Ticket     Fare  Embarked\n",
              "PassengerId                                  ...                                     \n",
              "1                   0       3    male  22.0  ...    0.0    21171.0   7.2500         S\n",
              "2                   1       1  female  38.0  ...    0.0    17599.0  71.2833         C\n",
              "3                   1       3  female  26.0  ...    0.0  3101282.0   7.9250         S\n",
              "4                   1       1  female  35.0  ...    0.0   113803.0  53.1000         S\n",
              "5                   0       3    male  35.0  ...    0.0   373450.0   8.0500         S\n",
              "...               ...     ...     ...   ...  ...    ...        ...      ...       ...\n",
              "887                 0       2    male  27.0  ...    0.0   211536.0  13.0000         S\n",
              "888                 1       1  female  19.0  ...    0.0   112053.0  30.0000         S\n",
              "889                 0       3  female  28.0  ...    2.0     6607.0  23.4500         S\n",
              "890                 1       1    male  26.0  ...    0.0   111369.0  30.0000         C\n",
              "891                 0       3    male  32.0  ...    0.0   370376.0   7.7500         Q\n",
              "\n",
              "[876 rows x 9 columns]"
            ]
          },
          "metadata": {},
          "execution_count": 36
        }
      ]
    },
    {
      "cell_type": "markdown",
      "source": [
        "#Data visualization"
      ],
      "metadata": {
        "id": "WSauplrJ32QV"
      }
    },
    {
      "cell_type": "code",
      "source": [
        "train_df.groupby('Embarked')['Survived'].value_counts().plot(kind='bar')"
      ],
      "metadata": {
        "colab": {
          "base_uri": "https://localhost:8080/",
          "height": 314
        },
        "id": "0s1dqthA5wnm",
        "outputId": "0163f36c-ad61-40aa-dfb2-2dc3229a222e"
      },
      "execution_count": null,
      "outputs": [
        {
          "output_type": "execute_result",
          "data": {
            "text/plain": [
              "<matplotlib.axes._subplots.AxesSubplot at 0x7f339b7bd290>"
            ]
          },
          "metadata": {},
          "execution_count": 37
        },
        {
          "output_type": "display_data",
          "data": {
            "image/png": "[encoded data removed]",
            "text/plain": [
              "<Figure size 432x288 with 1 Axes>"
            ]
          },
          "metadata": {
            "needs_background": "light"
          }
        }
      ]
    },
    {
      "cell_type": "code",
      "source": [
        "train_df.groupby('Pclass')['Survived'].value_counts().plot(kind='bar')"
      ],
      "metadata": {
        "colab": {
          "base_uri": "https://localhost:8080/",
          "height": 314
        },
        "id": "YKUrzNHy36ch",
        "outputId": "d6d2e051-7706-49c2-e842-4ddc7d2d3d33"
      },
      "execution_count": null,
      "outputs": [
        {
          "output_type": "execute_result",
          "data": {
            "text/plain": [
              "<matplotlib.axes._subplots.AxesSubplot at 0x7f3391ae0150>"
            ]
          },
          "metadata": {},
          "execution_count": 38
        },
        {
          "output_type": "display_data",
          "data": {
            "image/png": "[encoded data removed]",
            "text/plain": [
              "<Figure size 432x288 with 1 Axes>"
            ]
          },
          "metadata": {
            "needs_background": "light"
          }
        }
      ]
    },
    {
      "cell_type": "code",
      "source": [
        "train_df.groupby('Sex')['Survived'].value_counts().plot(kind='bar')"
      ],
      "metadata": {
        "colab": {
          "base_uri": "https://localhost:8080/",
          "height": 342
        },
        "id": "iySd5DKh5ULb",
        "outputId": "a710b5a5-1265-4afa-ebc8-a6b4ecae7e8b"
      },
      "execution_count": null,
      "outputs": [
        {
          "output_type": "execute_result",
          "data": {
            "text/plain": [
              "<matplotlib.axes._subplots.AxesSubplot at 0x7f3391be2ed0>"
            ]
          },
          "metadata": {},
          "execution_count": 39
        },
        {
          "output_type": "display_data",
          "data": {
            "image/png": "[encoded data removed]",
            "text/plain": [
              "<Figure size 432x288 with 1 Axes>"
            ]
          },
          "metadata": {
            "needs_background": "light"
          }
        }
      ]
    },
    {
      "cell_type": "code",
      "source": [
        "sns.scatterplot(x=train_df.Age,y=train_df.Survived)"
      ],
      "metadata": {
        "colab": {
          "base_uri": "https://localhost:8080/",
          "height": 296
        },
        "id": "R1FbaeQb6wvS",
        "outputId": "7ee82816-d4ab-4934-c9d2-61987d4d7fa4"
      },
      "execution_count": null,
      "outputs": [
        {
          "output_type": "execute_result",
          "data": {
            "text/plain": [
              "<matplotlib.axes._subplots.AxesSubplot at 0x7f33917b69d0>"
            ]
          },
          "metadata": {},
          "execution_count": 40
        },
        {
          "output_type": "display_data",
          "data": {
            "image/png": "[encoded data removed]",
            "text/plain": [
              "<Figure size 432x288 with 1 Axes>"
            ]
          },
          "metadata": {
            "needs_background": "light"
          }
        }
      ]
    },
    {
      "cell_type": "code",
      "source": [
        "old_people=train_df[train_df['Age']>=train_df['Age'].mean()]\n",
        "young_people=train_df[train_df['Age']<train_df['Age'].mean()]\n",
        "old_people['Survived'].value_counts().plot(kind='bar')\n",
        "# plt.pie(x=old_people['Survived'].value_counts(),autopct='%1.0f%%',labels=['Die','Survived'])"
      ],
      "metadata": {
        "colab": {
          "base_uri": "https://localhost:8080/",
          "height": 279
        },
        "id": "5V7ywfI_7fT-",
        "outputId": "794ac178-7836-45c7-9c39-392419ab8401"
      },
      "execution_count": null,
      "outputs": [
        {
          "output_type": "execute_result",
          "data": {
            "text/plain": [
              "<matplotlib.axes._subplots.AxesSubplot at 0x7f33916cb610>"
            ]
          },
          "metadata": {},
          "execution_count": 41
        },
        {
          "output_type": "display_data",
          "data": {
            "image/png": "[encoded data removed]",
            "text/plain": [
              "<Figure size 432x288 with 1 Axes>"
            ]
          },
          "metadata": {
            "needs_background": "light"
          }
        }
      ]
    },
    {
      "cell_type": "code",
      "source": [
        "young_people['Survived'].value_counts().plot(kind='bar')\n",
        "# plt.pie(x=young_people['Survived'].value_counts(),autopct='%1.0f%%',labels=['Die','Survived'])"
      ],
      "metadata": {
        "colab": {
          "base_uri": "https://localhost:8080/",
          "height": 279
        },
        "id": "N48EKrMF8HjX",
        "outputId": "ead97849-f729-4eeb-cee2-4a1e3c3d058b"
      },
      "execution_count": null,
      "outputs": [
        {
          "output_type": "execute_result",
          "data": {
            "text/plain": [
              "<matplotlib.axes._subplots.AxesSubplot at 0x7f33916bf1d0>"
            ]
          },
          "metadata": {},
          "execution_count": 42
        },
        {
          "output_type": "display_data",
          "data": {
            "image/png": "[encoded data removed]",
            "text/plain": [
              "<Figure size 432x288 with 1 Axes>"
            ]
          },
          "metadata": {
            "needs_background": "light"
          }
        }
      ]
    },
    {
      "cell_type": "code",
      "source": [
        "sns.heatmap(train_df.corr(),annot=True)"
      ],
      "metadata": {
        "colab": {
          "base_uri": "https://localhost:8080/",
          "height": 286
        },
        "id": "PmzGn5Ox318x",
        "outputId": "f01438e0-db23-497c-f1bc-34aae9256f67"
      },
      "execution_count": null,
      "outputs": [
        {
          "output_type": "execute_result",
          "data": {
            "text/plain": [
              "<matplotlib.axes._subplots.AxesSubplot at 0x7f3391624e50>"
            ]
          },
          "metadata": {},
          "execution_count": 43
        },
        {
          "output_type": "display_data",
          "data": {
            "image/png": "[encoded data removed]",
            "text/plain": [
              "<Figure size 432x288 with 2 Axes>"
            ]
          },
          "metadata": {
            "needs_background": "light"
          }
        }
      ]
    },
    {
      "cell_type": "markdown",
      "source": [
        "#Feature Engineering"
      ],
      "metadata": {
        "id": "daNvsa1sb_3s"
      }
    },
    {
      "cell_type": "code",
      "source": [
        "train_df['IsAlone']=train_df['SibSp'] + train_df['Parch']\n",
        "train_df['IsAlone']=train_df['IsAlone'].apply(lambda x: 0 if x >0 else 1)\n",
        "train_df.groupby('IsAlone')['Survived'].value_counts()[1].plot(kind='bar')\n",
        "plt.title('Alone')\n",
        "plt.show()\n",
        "train_df.groupby('IsAlone')['Survived'].value_counts()[0].plot(kind='bar')\n",
        "plt.title('With Family')"
      ],
      "metadata": {
        "colab": {
          "base_uri": "https://localhost:8080/",
          "height": 584
        },
        "id": "ykxtp--Ub-fL",
        "outputId": "91f59313-1a13-491d-ec57-9f80b43e881f"
      },
      "execution_count": null,
      "outputs": [
        {
          "output_type": "display_data",
          "data": {
            "image/png": "[encoded data removed]",
            "text/plain": [
              "<Figure size 432x288 with 1 Axes>"
            ]
          },
          "metadata": {
            "needs_background": "light"
          }
        },
        {
          "output_type": "execute_result",
          "data": {
            "text/plain": [
              "Text(0.5, 1.0, 'With Family')"
            ]
          },
          "metadata": {},
          "execution_count": 44
        },
        {
          "output_type": "display_data",
          "data": {
            "image/png": "[encoded data removed]",
            "text/plain": [
              "<Figure size 432x288 with 1 Axes>"
            ]
          },
          "metadata": {
            "needs_background": "light"
          }
        }
      ]
    },
    {
      "cell_type": "markdown",
      "source": [
        "#Check outliers"
      ],
      "metadata": {
        "id": "jcEVvUszAWI3"
      }
    },
    {
      "cell_type": "code",
      "source": [
        "continuos=['Age','SibSp','Parch','Fare','Ticket']\n",
        "train_df[continuos].plot(kind='box')"
      ],
      "metadata": {
        "colab": {
          "base_uri": "https://localhost:8080/",
          "height": 294
        },
        "id": "_ALaC6E3AbUZ",
        "outputId": "8a4ad957-9654-4ad4-eafd-c5b88522f3ca"
      },
      "execution_count": null,
      "outputs": [
        {
          "output_type": "execute_result",
          "data": {
            "text/plain": [
              "<matplotlib.axes._subplots.AxesSubplot at 0x7f3391b36a50>"
            ]
          },
          "metadata": {},
          "execution_count": 22
        },
        {
          "output_type": "display_data",
          "data": {
            "image/png": "[encoded data removed]",
            "text/plain": [
              "<Figure size 432x288 with 1 Axes>"
            ]
          },
          "metadata": {
            "needs_background": "light"
          }
        }
      ]
    },
    {
      "cell_type": "markdown",
      "source": [
        "Remove outliers"
      ],
      "metadata": {
        "id": "MK6TTsDiA_cW"
      }
    },
    {
      "cell_type": "code",
      "source": [
        "for col in ['Ticket','Fare'] :\n",
        "    Q1 = train_df[col].quantile(0.25)\n",
        "    Q3 = train_df[col].quantile(0.75)\n",
        "    IQR = Q3-Q1\n",
        "    train_df=train_df[(Q1-1.5*IQR <= train_df[col]) & (train_df[col] <= Q3+1.5*IQR)]\n",
        "train_df[continuos].plot(kind='box')"
      ],
      "metadata": {
        "id": "sJfMiUV0BDCm",
        "colab": {
          "base_uri": "https://localhost:8080/",
          "height": 282
        },
        "outputId": "af71b9a9-4177-49b6-c464-8a1740988e2d"
      },
      "execution_count": null,
      "outputs": [
        {
          "output_type": "execute_result",
          "data": {
            "text/plain": [
              "<matplotlib.axes._subplots.AxesSubplot at 0x7f33919c4350>"
            ]
          },
          "metadata": {},
          "execution_count": 23
        },
        {
          "output_type": "display_data",
          "data": {
            "image/png": "[encoded data removed]",
            "text/plain": [
              "<Figure size 432x288 with 1 Axes>"
            ]
          },
          "metadata": {
            "needs_background": "light"
          }
        }
      ]
    },
    {
      "cell_type": "markdown",
      "source": [
        "#Features and target split"
      ],
      "metadata": {
        "id": "jotBt6-3Xe7U"
      }
    },
    {
      "cell_type": "code",
      "source": [
        "x=train_df.drop('Survived',axis=1)\n",
        "y=train_df['Survived']"
      ],
      "metadata": {
        "id": "im2lciguTvFW"
      },
      "execution_count": null,
      "outputs": []
    },
    {
      "cell_type": "markdown",
      "source": [
        "#Normalization"
      ],
      "metadata": {
        "id": "dBaOYEtomA6c"
      }
    },
    {
      "cell_type": "code",
      "source": [
        "x.hist()"
      ],
      "metadata": {
        "colab": {
          "base_uri": "https://localhost:8080/",
          "height": 454
        },
        "id": "DjYACl21AG3z",
        "outputId": "ff8fd863-a7de-4f6f-c79d-386e859e06e8"
      },
      "execution_count": null,
      "outputs": [
        {
          "output_type": "execute_result",
          "data": {
            "text/plain": [
              "array([[<matplotlib.axes._subplots.AxesSubplot object at 0x7f33913cb1d0>,\n",
              "        <matplotlib.axes._subplots.AxesSubplot object at 0x7f33913ea390>,\n",
              "        <matplotlib.axes._subplots.AxesSubplot object at 0x7f339139e790>],\n",
              "       [<matplotlib.axes._subplots.AxesSubplot object at 0x7f3391351c90>,\n",
              "        <matplotlib.axes._subplots.AxesSubplot object at 0x7f33913141d0>,\n",
              "        <matplotlib.axes._subplots.AxesSubplot object at 0x7f33912cc6d0>],\n",
              "       [<matplotlib.axes._subplots.AxesSubplot object at 0x7f3391300bd0>,\n",
              "        <matplotlib.axes._subplots.AxesSubplot object at 0x7f3391243110>,\n",
              "        <matplotlib.axes._subplots.AxesSubplot object at 0x7f339127a650>]],\n",
              "      dtype=object)"
            ]
          },
          "metadata": {},
          "execution_count": 46
        },
        {
          "output_type": "display_data",
          "data": {
            "image/png": "[encoded data removed]",
            "text/plain": [
              "<Figure size 432x288 with 9 Axes>"
            ]
          },
          "metadata": {
            "needs_background": "light"
          }
        }
      ]
    },
    {
      "cell_type": "code",
      "source": [
        "x['SibSp']=np.log1p(x['SibSp'])\n",
        "x['Fare']=np.log1p(x['Fare'])\n",
        "x['Ticket']=np.log1p(x['Ticket'])\n",
        "x.hist()"
      ],
      "metadata": {
        "colab": {
          "base_uri": "https://localhost:8080/",
          "height": 454
        },
        "id": "4KSQzQyqAWzF",
        "outputId": "3420fd34-e856-47e3-c659-2c041c677dd6"
      },
      "execution_count": null,
      "outputs": [
        {
          "output_type": "execute_result",
          "data": {
            "text/plain": [
              "array([[<matplotlib.axes._subplots.AxesSubplot object at 0x7ff149be7f10>,\n",
              "        <matplotlib.axes._subplots.AxesSubplot object at 0x7ff149a81910>,\n",
              "        <matplotlib.axes._subplots.AxesSubplot object at 0x7ff149a2ced0>],\n",
              "       [<matplotlib.axes._subplots.AxesSubplot object at 0x7ff1499f2490>,\n",
              "        <matplotlib.axes._subplots.AxesSubplot object at 0x7ff1499aa810>,\n",
              "        <matplotlib.axes._subplots.AxesSubplot object at 0x7ff149956d10>],\n",
              "       [<matplotlib.axes._subplots.AxesSubplot object at 0x7ff1499172d0>,\n",
              "        <matplotlib.axes._subplots.AxesSubplot object at 0x7ff14994d710>,\n",
              "        <matplotlib.axes._subplots.AxesSubplot object at 0x7ff14994d750>]],\n",
              "      dtype=object)"
            ]
          },
          "metadata": {},
          "execution_count": 344
        },
        {
          "output_type": "display_data",
          "data": {
            "image/png": "[encoded data removed]",
            "text/plain": [
              "<Figure size 432x288 with 9 Axes>"
            ]
          },
          "metadata": {
            "needs_background": "light"
          }
        }
      ]
    },
    {
      "cell_type": "markdown",
      "source": [
        "Standardization"
      ],
      "metadata": {
        "id": "u_E-g9ZImKne"
      }
    },
    {
      "cell_type": "code",
      "source": [
        "from sklearn.preprocessing import StandardScaler\n",
        "scaler=StandardScaler()\n",
        "col_to_standard=['Age','Fare','SibSp','Ticket']\n",
        "x[col_to_standard]=scaler.fit_transform(x[col_to_standard])\n",
        "# x=pd.DataFrame(scaler.fit_transform(x),index=x.index,columns=x.columns)\n",
        "x"
      ],
      "metadata": {
        "colab": {
          "base_uri": "https://localhost:8080/",
          "height": 455
        },
        "id": "oRKZqadyT9dA",
        "outputId": "fd6baa34-3636-479d-bb34-bd018fe11b34"
      },
      "execution_count": null,
      "outputs": [
        {
          "output_type": "execute_result",
          "data": {
            "text/html": [
              "\n",
              "  <div id=\"df-66abe259-0c9c-4fd9-bfed-9bd3bfa26fbe\">\n",
              "    <div class=\"colab-df-container\">\n",
              "      <div>\n",
              "<style scoped>\n",
              "    .dataframe tbody tr th:only-of-type {\n",
              "        vertical-align: middle;\n",
              "    }\n",
              "\n",
              "    .dataframe tbody tr th {\n",
              "        vertical-align: top;\n",
              "    }\n",
              "\n",
              "    .dataframe thead th {\n",
              "        text-align: right;\n",
              "    }\n",
              "</style>\n",
              "<table border=\"1\" class=\"dataframe\">\n",
              "  <thead>\n",
              "    <tr style=\"text-align: right;\">\n",
              "      <th></th>\n",
              "      <th>Pclass</th>\n",
              "      <th>Sex</th>\n",
              "      <th>Age</th>\n",
              "      <th>SibSp</th>\n",
              "      <th>Parch</th>\n",
              "      <th>Ticket</th>\n",
              "      <th>Fare</th>\n",
              "      <th>Embarked</th>\n",
              "      <th>IsAlone</th>\n",
              "    </tr>\n",
              "    <tr>\n",
              "      <th>PassengerId</th>\n",
              "      <th></th>\n",
              "      <th></th>\n",
              "      <th></th>\n",
              "      <th></th>\n",
              "      <th></th>\n",
              "      <th></th>\n",
              "      <th></th>\n",
              "      <th></th>\n",
              "      <th></th>\n",
              "    </tr>\n",
              "  </thead>\n",
              "  <tbody>\n",
              "    <tr>\n",
              "      <th>1</th>\n",
              "      <td>3</td>\n",
              "      <td>male</td>\n",
              "      <td>-0.566755</td>\n",
              "      <td>0.554912</td>\n",
              "      <td>0.0</td>\n",
              "      <td>-0.424490</td>\n",
              "      <td>-0.496235</td>\n",
              "      <td>S</td>\n",
              "      <td>0</td>\n",
              "    </tr>\n",
              "    <tr>\n",
              "      <th>2</th>\n",
              "      <td>1</td>\n",
              "      <td>female</td>\n",
              "      <td>0.656017</td>\n",
              "      <td>0.554912</td>\n",
              "      <td>0.0</td>\n",
              "      <td>-0.429897</td>\n",
              "      <td>0.785795</td>\n",
              "      <td>C</td>\n",
              "      <td>0</td>\n",
              "    </tr>\n",
              "    <tr>\n",
              "      <th>3</th>\n",
              "      <td>3</td>\n",
              "      <td>female</td>\n",
              "      <td>-0.261062</td>\n",
              "      <td>-0.501833</td>\n",
              "      <td>0.0</td>\n",
              "      <td>4.238396</td>\n",
              "      <td>-0.482720</td>\n",
              "      <td>S</td>\n",
              "      <td>1</td>\n",
              "    </tr>\n",
              "    <tr>\n",
              "      <th>4</th>\n",
              "      <td>1</td>\n",
              "      <td>female</td>\n",
              "      <td>0.426747</td>\n",
              "      <td>0.554912</td>\n",
              "      <td>0.0</td>\n",
              "      <td>-0.284257</td>\n",
              "      <td>0.421741</td>\n",
              "      <td>S</td>\n",
              "      <td>0</td>\n",
              "    </tr>\n",
              "    <tr>\n",
              "      <th>5</th>\n",
              "      <td>3</td>\n",
              "      <td>male</td>\n",
              "      <td>0.426747</td>\n",
              "      <td>-0.501833</td>\n",
              "      <td>0.0</td>\n",
              "      <td>0.108815</td>\n",
              "      <td>-0.480218</td>\n",
              "      <td>S</td>\n",
              "      <td>1</td>\n",
              "    </tr>\n",
              "    <tr>\n",
              "      <th>...</th>\n",
              "      <td>...</td>\n",
              "      <td>...</td>\n",
              "      <td>...</td>\n",
              "      <td>...</td>\n",
              "      <td>...</td>\n",
              "      <td>...</td>\n",
              "      <td>...</td>\n",
              "      <td>...</td>\n",
              "      <td>...</td>\n",
              "    </tr>\n",
              "    <tr>\n",
              "      <th>887</th>\n",
              "      <td>2</td>\n",
              "      <td>male</td>\n",
              "      <td>-0.184639</td>\n",
              "      <td>-0.501833</td>\n",
              "      <td>0.0</td>\n",
              "      <td>-0.136302</td>\n",
              "      <td>-0.381112</td>\n",
              "      <td>S</td>\n",
              "      <td>1</td>\n",
              "    </tr>\n",
              "    <tr>\n",
              "      <th>888</th>\n",
              "      <td>1</td>\n",
              "      <td>female</td>\n",
              "      <td>-0.796025</td>\n",
              "      <td>-0.501833</td>\n",
              "      <td>0.0</td>\n",
              "      <td>-0.286906</td>\n",
              "      <td>-0.040750</td>\n",
              "      <td>S</td>\n",
              "      <td>1</td>\n",
              "    </tr>\n",
              "    <tr>\n",
              "      <th>889</th>\n",
              "      <td>3</td>\n",
              "      <td>female</td>\n",
              "      <td>-0.108216</td>\n",
              "      <td>0.554912</td>\n",
              "      <td>2.0</td>\n",
              "      <td>-0.446538</td>\n",
              "      <td>-0.171890</td>\n",
              "      <td>S</td>\n",
              "      <td>0</td>\n",
              "    </tr>\n",
              "    <tr>\n",
              "      <th>890</th>\n",
              "      <td>1</td>\n",
              "      <td>male</td>\n",
              "      <td>-0.261062</td>\n",
              "      <td>-0.501833</td>\n",
              "      <td>0.0</td>\n",
              "      <td>-0.287942</td>\n",
              "      <td>-0.040750</td>\n",
              "      <td>C</td>\n",
              "      <td>1</td>\n",
              "    </tr>\n",
              "    <tr>\n",
              "      <th>891</th>\n",
              "      <td>3</td>\n",
              "      <td>male</td>\n",
              "      <td>0.197477</td>\n",
              "      <td>-0.501833</td>\n",
              "      <td>0.0</td>\n",
              "      <td>0.104161</td>\n",
              "      <td>-0.486224</td>\n",
              "      <td>Q</td>\n",
              "      <td>1</td>\n",
              "    </tr>\n",
              "  </tbody>\n",
              "</table>\n",
              "<p>876 rows × 9 columns</p>\n",
              "</div>\n",
              "      <button class=\"colab-df-convert\" onclick=\"convertToInteractive('df-66abe259-0c9c-4fd9-bfed-9bd3bfa26fbe')\"\n",
              "              title=\"Convert this dataframe to an interactive table.\"\n",
              "              style=\"display:none;\">\n",
              "        \n",
              "  <svg xmlns=\"http://www.w3.org/2000/svg\" height=\"24px\"viewBox=\"0 0 24 24\"\n",
              "       width=\"24px\">\n",
              "    <path d=\"M0 0h24v24H0V0z\" fill=\"none\"/>\n",
              "    <path d=\"M18.56 5.44l.94 2.06.94-2.06 2.06-.94-2.06-.94-.94-2.06-.94 2.06-2.06.94zm-11 1L8.5 8.5l.94-2.06 2.06-.94-2.06-.94L8.5 2.5l-.94 2.06-2.06.94zm10 10l.94 2.06.94-2.06 2.06-.94-2.06-.94-.94-2.06-.94 2.06-2.06.94z\"/><path d=\"M17.41 7.96l-1.37-1.37c-.4-.4-.92-.59-1.43-.59-.52 0-1.04.2-1.43.59L10.3 9.45l-7.72 7.72c-.78.78-.78 2.05 0 2.83L4 21.41c.39.39.9.59 1.41.59.51 0 1.02-.2 1.41-.59l7.78-7.78 2.81-2.81c.8-.78.8-2.07 0-2.86zM5.41 20L4 18.59l7.72-7.72 1.47 1.35L5.41 20z\"/>\n",
              "  </svg>\n",
              "      </button>\n",
              "      \n",
              "  <style>\n",
              "    .colab-df-container {\n",
              "      display:flex;\n",
              "      flex-wrap:wrap;\n",
              "      gap: 12px;\n",
              "    }\n",
              "\n",
              "    .colab-df-convert {\n",
              "      background-color: #E8F0FE;\n",
              "      border: none;\n",
              "      border-radius: 50%;\n",
              "      cursor: pointer;\n",
              "      display: none;\n",
              "      fill: #1967D2;\n",
              "      height: 32px;\n",
              "      padding: 0 0 0 0;\n",
              "      width: 32px;\n",
              "    }\n",
              "\n",
              "    .colab-df-convert:hover {\n",
              "      background-color: #E2EBFA;\n",
              "      box-shadow: 0px 1px 2px rgba(60, 64, 67, 0.3), 0px 1px 3px 1px rgba(60, 64, 67, 0.15);\n",
              "      fill: #174EA6;\n",
              "    }\n",
              "\n",
              "    [theme=dark] .colab-df-convert {\n",
              "      background-color: #3B4455;\n",
              "      fill: #D2E3FC;\n",
              "    }\n",
              "\n",
              "    [theme=dark] .colab-df-convert:hover {\n",
              "      background-color: #434B5C;\n",
              "      box-shadow: 0px 1px 3px 1px rgba(0, 0, 0, 0.15);\n",
              "      filter: drop-shadow(0px 1px 2px rgba(0, 0, 0, 0.3));\n",
              "      fill: #FFFFFF;\n",
              "    }\n",
              "  </style>\n",
              "\n",
              "      <script>\n",
              "        const buttonEl =\n",
              "          document.querySelector('#df-66abe259-0c9c-4fd9-bfed-9bd3bfa26fbe button.colab-df-convert');\n",
              "        buttonEl.style.display =\n",
              "          google.colab.kernel.accessAllowed ? 'block' : 'none';\n",
              "\n",
              "        async function convertToInteractive(key) {\n",
              "          const element = document.querySelector('#df-66abe259-0c9c-4fd9-bfed-9bd3bfa26fbe');\n",
              "          const dataTable =\n",
              "            await google.colab.kernel.invokeFunction('convertToInteractive',\n",
              "                                                     [key], {});\n",
              "          if (!dataTable) return;\n",
              "\n",
              "          const docLinkHtml = 'Like what you see? Visit the ' +\n",
              "            '<a target=\"_blank\" href=https://colab.research.google.com/notebooks/data_table.ipynb>data table notebook</a>'\n",
              "            + ' to learn more about interactive tables.';\n",
              "          element.innerHTML = '';\n",
              "          dataTable['output_type'] = 'display_data';\n",
              "          await google.colab.output.renderOutput(dataTable, element);\n",
              "          const docLink = document.createElement('div');\n",
              "          docLink.innerHTML = docLinkHtml;\n",
              "          element.appendChild(docLink);\n",
              "        }\n",
              "      </script>\n",
              "    </div>\n",
              "  </div>\n",
              "  "
            ],
            "text/plain": [
              "             Pclass     Sex       Age  ...      Fare  Embarked  IsAlone\n",
              "PassengerId                            ...                             \n",
              "1                 3    male -0.566755  ... -0.496235         S        0\n",
              "2                 1  female  0.656017  ...  0.785795         C        0\n",
              "3                 3  female -0.261062  ... -0.482720         S        1\n",
              "4                 1  female  0.426747  ...  0.421741         S        0\n",
              "5                 3    male  0.426747  ... -0.480218         S        1\n",
              "...             ...     ...       ...  ...       ...       ...      ...\n",
              "887               2    male -0.184639  ... -0.381112         S        1\n",
              "888               1  female -0.796025  ... -0.040750         S        1\n",
              "889               3  female -0.108216  ... -0.171890         S        0\n",
              "890               1    male -0.261062  ... -0.040750         C        1\n",
              "891               3    male  0.197477  ... -0.486224         Q        1\n",
              "\n",
              "[876 rows x 9 columns]"
            ]
          },
          "metadata": {},
          "execution_count": 47
        }
      ]
    },
    {
      "cell_type": "markdown",
      "source": [
        "#Dealing with categorical variables"
      ],
      "metadata": {
        "id": "dioCi-65FLYN"
      }
    },
    {
      "cell_type": "code",
      "source": [
        "x=pd.get_dummies(x)\n",
        "x"
      ],
      "metadata": {
        "colab": {
          "base_uri": "https://localhost:8080/",
          "height": 455
        },
        "id": "Eu4j7QomFXWJ",
        "outputId": "303be2bd-c0a1-4990-8ae4-795d87837b88"
      },
      "execution_count": null,
      "outputs": [
        {
          "output_type": "execute_result",
          "data": {
            "text/html": [
              "\n",
              "  <div id=\"df-c923a7fb-2a8d-4922-879a-5891e412d570\">\n",
              "    <div class=\"colab-df-container\">\n",
              "      <div>\n",
              "<style scoped>\n",
              "    .dataframe tbody tr th:only-of-type {\n",
              "        vertical-align: middle;\n",
              "    }\n",
              "\n",
              "    .dataframe tbody tr th {\n",
              "        vertical-align: top;\n",
              "    }\n",
              "\n",
              "    .dataframe thead th {\n",
              "        text-align: right;\n",
              "    }\n",
              "</style>\n",
              "<table border=\"1\" class=\"dataframe\">\n",
              "  <thead>\n",
              "    <tr style=\"text-align: right;\">\n",
              "      <th></th>\n",
              "      <th>Pclass</th>\n",
              "      <th>Age</th>\n",
              "      <th>SibSp</th>\n",
              "      <th>Parch</th>\n",
              "      <th>Ticket</th>\n",
              "      <th>Fare</th>\n",
              "      <th>IsAlone</th>\n",
              "      <th>Sex_female</th>\n",
              "      <th>Sex_male</th>\n",
              "      <th>Embarked_C</th>\n",
              "      <th>Embarked_Q</th>\n",
              "      <th>Embarked_S</th>\n",
              "    </tr>\n",
              "    <tr>\n",
              "      <th>PassengerId</th>\n",
              "      <th></th>\n",
              "      <th></th>\n",
              "      <th></th>\n",
              "      <th></th>\n",
              "      <th></th>\n",
              "      <th></th>\n",
              "      <th></th>\n",
              "      <th></th>\n",
              "      <th></th>\n",
              "      <th></th>\n",
              "      <th></th>\n",
              "      <th></th>\n",
              "    </tr>\n",
              "  </thead>\n",
              "  <tbody>\n",
              "    <tr>\n",
              "      <th>1</th>\n",
              "      <td>3</td>\n",
              "      <td>-0.566755</td>\n",
              "      <td>0.554912</td>\n",
              "      <td>0.0</td>\n",
              "      <td>-0.424490</td>\n",
              "      <td>-0.496235</td>\n",
              "      <td>0</td>\n",
              "      <td>0</td>\n",
              "      <td>1</td>\n",
              "      <td>0</td>\n",
              "      <td>0</td>\n",
              "      <td>1</td>\n",
              "    </tr>\n",
              "    <tr>\n",
              "      <th>2</th>\n",
              "      <td>1</td>\n",
              "      <td>0.656017</td>\n",
              "      <td>0.554912</td>\n",
              "      <td>0.0</td>\n",
              "      <td>-0.429897</td>\n",
              "      <td>0.785795</td>\n",
              "      <td>0</td>\n",
              "      <td>1</td>\n",
              "      <td>0</td>\n",
              "      <td>1</td>\n",
              "      <td>0</td>\n",
              "      <td>0</td>\n",
              "    </tr>\n",
              "    <tr>\n",
              "      <th>3</th>\n",
              "      <td>3</td>\n",
              "      <td>-0.261062</td>\n",
              "      <td>-0.501833</td>\n",
              "      <td>0.0</td>\n",
              "      <td>4.238396</td>\n",
              "      <td>-0.482720</td>\n",
              "      <td>1</td>\n",
              "      <td>1</td>\n",
              "      <td>0</td>\n",
              "      <td>0</td>\n",
              "      <td>0</td>\n",
              "      <td>1</td>\n",
              "    </tr>\n",
              "    <tr>\n",
              "      <th>4</th>\n",
              "      <td>1</td>\n",
              "      <td>0.426747</td>\n",
              "      <td>0.554912</td>\n",
              "      <td>0.0</td>\n",
              "      <td>-0.284257</td>\n",
              "      <td>0.421741</td>\n",
              "      <td>0</td>\n",
              "      <td>1</td>\n",
              "      <td>0</td>\n",
              "      <td>0</td>\n",
              "      <td>0</td>\n",
              "      <td>1</td>\n",
              "    </tr>\n",
              "    <tr>\n",
              "      <th>5</th>\n",
              "      <td>3</td>\n",
              "      <td>0.426747</td>\n",
              "      <td>-0.501833</td>\n",
              "      <td>0.0</td>\n",
              "      <td>0.108815</td>\n",
              "      <td>-0.480218</td>\n",
              "      <td>1</td>\n",
              "      <td>0</td>\n",
              "      <td>1</td>\n",
              "      <td>0</td>\n",
              "      <td>0</td>\n",
              "      <td>1</td>\n",
              "    </tr>\n",
              "    <tr>\n",
              "      <th>...</th>\n",
              "      <td>...</td>\n",
              "      <td>...</td>\n",
              "      <td>...</td>\n",
              "      <td>...</td>\n",
              "      <td>...</td>\n",
              "      <td>...</td>\n",
              "      <td>...</td>\n",
              "      <td>...</td>\n",
              "      <td>...</td>\n",
              "      <td>...</td>\n",
              "      <td>...</td>\n",
              "      <td>...</td>\n",
              "    </tr>\n",
              "    <tr>\n",
              "      <th>887</th>\n",
              "      <td>2</td>\n",
              "      <td>-0.184639</td>\n",
              "      <td>-0.501833</td>\n",
              "      <td>0.0</td>\n",
              "      <td>-0.136302</td>\n",
              "      <td>-0.381112</td>\n",
              "      <td>1</td>\n",
              "      <td>0</td>\n",
              "      <td>1</td>\n",
              "      <td>0</td>\n",
              "      <td>0</td>\n",
              "      <td>1</td>\n",
              "    </tr>\n",
              "    <tr>\n",
              "      <th>888</th>\n",
              "      <td>1</td>\n",
              "      <td>-0.796025</td>\n",
              "      <td>-0.501833</td>\n",
              "      <td>0.0</td>\n",
              "      <td>-0.286906</td>\n",
              "      <td>-0.040750</td>\n",
              "      <td>1</td>\n",
              "      <td>1</td>\n",
              "      <td>0</td>\n",
              "      <td>0</td>\n",
              "      <td>0</td>\n",
              "      <td>1</td>\n",
              "    </tr>\n",
              "    <tr>\n",
              "      <th>889</th>\n",
              "      <td>3</td>\n",
              "      <td>-0.108216</td>\n",
              "      <td>0.554912</td>\n",
              "      <td>2.0</td>\n",
              "      <td>-0.446538</td>\n",
              "      <td>-0.171890</td>\n",
              "      <td>0</td>\n",
              "      <td>1</td>\n",
              "      <td>0</td>\n",
              "      <td>0</td>\n",
              "      <td>0</td>\n",
              "      <td>1</td>\n",
              "    </tr>\n",
              "    <tr>\n",
              "      <th>890</th>\n",
              "      <td>1</td>\n",
              "      <td>-0.261062</td>\n",
              "      <td>-0.501833</td>\n",
              "      <td>0.0</td>\n",
              "      <td>-0.287942</td>\n",
              "      <td>-0.040750</td>\n",
              "      <td>1</td>\n",
              "      <td>0</td>\n",
              "      <td>1</td>\n",
              "      <td>1</td>\n",
              "      <td>0</td>\n",
              "      <td>0</td>\n",
              "    </tr>\n",
              "    <tr>\n",
              "      <th>891</th>\n",
              "      <td>3</td>\n",
              "      <td>0.197477</td>\n",
              "      <td>-0.501833</td>\n",
              "      <td>0.0</td>\n",
              "      <td>0.104161</td>\n",
              "      <td>-0.486224</td>\n",
              "      <td>1</td>\n",
              "      <td>0</td>\n",
              "      <td>1</td>\n",
              "      <td>0</td>\n",
              "      <td>1</td>\n",
              "      <td>0</td>\n",
              "    </tr>\n",
              "  </tbody>\n",
              "</table>\n",
              "<p>876 rows × 12 columns</p>\n",
              "</div>\n",
              "      <button class=\"colab-df-convert\" onclick=\"convertToInteractive('df-c923a7fb-2a8d-4922-879a-5891e412d570')\"\n",
              "              title=\"Convert this dataframe to an interactive table.\"\n",
              "              style=\"display:none;\">\n",
              "        \n",
              "  <svg xmlns=\"http://www.w3.org/2000/svg\" height=\"24px\"viewBox=\"0 0 24 24\"\n",
              "       width=\"24px\">\n",
              "    <path d=\"M0 0h24v24H0V0z\" fill=\"none\"/>\n",
              "    <path d=\"M18.56 5.44l.94 2.06.94-2.06 2.06-.94-2.06-.94-.94-2.06-.94 2.06-2.06.94zm-11 1L8.5 8.5l.94-2.06 2.06-.94-2.06-.94L8.5 2.5l-.94 2.06-2.06.94zm10 10l.94 2.06.94-2.06 2.06-.94-2.06-.94-.94-2.06-.94 2.06-2.06.94z\"/><path d=\"M17.41 7.96l-1.37-1.37c-.4-.4-.92-.59-1.43-.59-.52 0-1.04.2-1.43.59L10.3 9.45l-7.72 7.72c-.78.78-.78 2.05 0 2.83L4 21.41c.39.39.9.59 1.41.59.51 0 1.02-.2 1.41-.59l7.78-7.78 2.81-2.81c.8-.78.8-2.07 0-2.86zM5.41 20L4 18.59l7.72-7.72 1.47 1.35L5.41 20z\"/>\n",
              "  </svg>\n",
              "      </button>\n",
              "      \n",
              "  <style>\n",
              "    .colab-df-container {\n",
              "      display:flex;\n",
              "      flex-wrap:wrap;\n",
              "      gap: 12px;\n",
              "    }\n",
              "\n",
              "    .colab-df-convert {\n",
              "      background-color: #E8F0FE;\n",
              "      border: none;\n",
              "      border-radius: 50%;\n",
              "      cursor: pointer;\n",
              "      display: none;\n",
              "      fill: #1967D2;\n",
              "      height: 32px;\n",
              "      padding: 0 0 0 0;\n",
              "      width: 32px;\n",
              "    }\n",
              "\n",
              "    .colab-df-convert:hover {\n",
              "      background-color: #E2EBFA;\n",
              "      box-shadow: 0px 1px 2px rgba(60, 64, 67, 0.3), 0px 1px 3px 1px rgba(60, 64, 67, 0.15);\n",
              "      fill: #174EA6;\n",
              "    }\n",
              "\n",
              "    [theme=dark] .colab-df-convert {\n",
              "      background-color: #3B4455;\n",
              "      fill: #D2E3FC;\n",
              "    }\n",
              "\n",
              "    [theme=dark] .colab-df-convert:hover {\n",
              "      background-color: #434B5C;\n",
              "      box-shadow: 0px 1px 3px 1px rgba(0, 0, 0, 0.15);\n",
              "      filter: drop-shadow(0px 1px 2px rgba(0, 0, 0, 0.3));\n",
              "      fill: #FFFFFF;\n",
              "    }\n",
              "  </style>\n",
              "\n",
              "      <script>\n",
              "        const buttonEl =\n",
              "          document.querySelector('#df-c923a7fb-2a8d-4922-879a-5891e412d570 button.colab-df-convert');\n",
              "        buttonEl.style.display =\n",
              "          google.colab.kernel.accessAllowed ? 'block' : 'none';\n",
              "\n",
              "        async function convertToInteractive(key) {\n",
              "          const element = document.querySelector('#df-c923a7fb-2a8d-4922-879a-5891e412d570');\n",
              "          const dataTable =\n",
              "            await google.colab.kernel.invokeFunction('convertToInteractive',\n",
              "                                                     [key], {});\n",
              "          if (!dataTable) return;\n",
              "\n",
              "          const docLinkHtml = 'Like what you see? Visit the ' +\n",
              "            '<a target=\"_blank\" href=https://colab.research.google.com/notebooks/data_table.ipynb>data table notebook</a>'\n",
              "            + ' to learn more about interactive tables.';\n",
              "          element.innerHTML = '';\n",
              "          dataTable['output_type'] = 'display_data';\n",
              "          await google.colab.output.renderOutput(dataTable, element);\n",
              "          const docLink = document.createElement('div');\n",
              "          docLink.innerHTML = docLinkHtml;\n",
              "          element.appendChild(docLink);\n",
              "        }\n",
              "      </script>\n",
              "    </div>\n",
              "  </div>\n",
              "  "
            ],
            "text/plain": [
              "             Pclass       Age     SibSp  ...  Embarked_C  Embarked_Q  Embarked_S\n",
              "PassengerId                              ...                                    \n",
              "1                 3 -0.566755  0.554912  ...           0           0           1\n",
              "2                 1  0.656017  0.554912  ...           1           0           0\n",
              "3                 3 -0.261062 -0.501833  ...           0           0           1\n",
              "4                 1  0.426747  0.554912  ...           0           0           1\n",
              "5                 3  0.426747 -0.501833  ...           0           0           1\n",
              "...             ...       ...       ...  ...         ...         ...         ...\n",
              "887               2 -0.184639 -0.501833  ...           0           0           1\n",
              "888               1 -0.796025 -0.501833  ...           0           0           1\n",
              "889               3 -0.108216  0.554912  ...           0           0           1\n",
              "890               1 -0.261062 -0.501833  ...           1           0           0\n",
              "891               3  0.197477 -0.501833  ...           0           1           0\n",
              "\n",
              "[876 rows x 12 columns]"
            ]
          },
          "metadata": {},
          "execution_count": 48
        }
      ]
    },
    {
      "cell_type": "markdown",
      "source": [
        "#Check the balance of the dataset"
      ],
      "metadata": {
        "id": "JSfAZicv-0yI"
      }
    },
    {
      "cell_type": "code",
      "source": [
        "train_df['Survived'].value_counts().plot(kind='bar')"
      ],
      "metadata": {
        "colab": {
          "base_uri": "https://localhost:8080/",
          "height": 279
        },
        "id": "afLWdIRb-0bR",
        "outputId": "838b9756-3e89-45d2-edf5-c6a9cfd8b5cf"
      },
      "execution_count": null,
      "outputs": [
        {
          "output_type": "execute_result",
          "data": {
            "text/plain": [
              "<matplotlib.axes._subplots.AxesSubplot at 0x7f33910e2e10>"
            ]
          },
          "metadata": {},
          "execution_count": 49
        },
        {
          "output_type": "display_data",
          "data": {
            "image/png": "[encoded data removed]",
            "text/plain": [
              "<Figure size 432x288 with 1 Axes>"
            ]
          },
          "metadata": {
            "needs_background": "light"
          }
        }
      ]
    },
    {
      "cell_type": "code",
      "source": [
        "# Ratio between target values\n",
        "survive_to_die_rario=train_df['Survived'].value_counts()[1]/train_df['Survived'].value_counts()[0]\n",
        "survive_to_die_rario"
      ],
      "metadata": {
        "colab": {
          "base_uri": "https://localhost:8080/"
        },
        "id": "xIm5j3Ws8RcI",
        "outputId": "722a4590-aacf-473a-b2af-074d876c6f8c"
      },
      "execution_count": null,
      "outputs": [
        {
          "output_type": "execute_result",
          "data": {
            "text/plain": [
              "0.6222222222222222"
            ]
          },
          "metadata": {},
          "execution_count": 50
        }
      ]
    },
    {
      "cell_type": "markdown",
      "source": [
        "From the result above it is balanced dataset because the ratio is more than 0.5"
      ],
      "metadata": {
        "id": "kGxwL_StAG7z"
      }
    },
    {
      "cell_type": "markdown",
      "source": [
        "trying resampling with SMOTE"
      ],
      "metadata": {
        "id": "SdqgX2kjhipB"
      }
    },
    {
      "cell_type": "code",
      "source": [
        "from imblearn.over_sampling import SMOTE\n",
        "# Resampling the minority class. The strategy can be changed as required.\n",
        "sm = SMOTE(sampling_strategy='minority', random_state=42)\n",
        "# Fit the model to generate the data.\n",
        "oversampled_X, oversampled_Y = sm.fit_resample(x, y)\n",
        "train_df = pd.concat([pd.DataFrame(oversampled_Y), pd.DataFrame(oversampled_X)], axis=1)\n",
        "x= oversampled_X\n",
        "y= oversampled_Y\n",
        "oversampled_X"
      ],
      "metadata": {
        "colab": {
          "base_uri": "https://localhost:8080/",
          "height": 423
        },
        "id": "bdk8yWVYhiHB",
        "outputId": "424d5e26-d002-4585-e5ee-17b0791ffb40"
      },
      "execution_count": null,
      "outputs": [
        {
          "output_type": "execute_result",
          "data": {
            "text/html": [
              "\n",
              "  <div id=\"df-9734733a-342f-4491-9dbe-1ae5bb23861e\">\n",
              "    <div class=\"colab-df-container\">\n",
              "      <div>\n",
              "<style scoped>\n",
              "    .dataframe tbody tr th:only-of-type {\n",
              "        vertical-align: middle;\n",
              "    }\n",
              "\n",
              "    .dataframe tbody tr th {\n",
              "        vertical-align: top;\n",
              "    }\n",
              "\n",
              "    .dataframe thead th {\n",
              "        text-align: right;\n",
              "    }\n",
              "</style>\n",
              "<table border=\"1\" class=\"dataframe\">\n",
              "  <thead>\n",
              "    <tr style=\"text-align: right;\">\n",
              "      <th></th>\n",
              "      <th>Pclass</th>\n",
              "      <th>Age</th>\n",
              "      <th>SibSp</th>\n",
              "      <th>Parch</th>\n",
              "      <th>Ticket</th>\n",
              "      <th>Fare</th>\n",
              "      <th>IsAlone</th>\n",
              "      <th>Sex_female</th>\n",
              "      <th>Sex_male</th>\n",
              "      <th>Embarked_C</th>\n",
              "      <th>Embarked_Q</th>\n",
              "      <th>Embarked_S</th>\n",
              "    </tr>\n",
              "  </thead>\n",
              "  <tbody>\n",
              "    <tr>\n",
              "      <th>0</th>\n",
              "      <td>3</td>\n",
              "      <td>-0.566755</td>\n",
              "      <td>0.554912</td>\n",
              "      <td>0.0</td>\n",
              "      <td>-0.424490</td>\n",
              "      <td>-0.496235</td>\n",
              "      <td>0</td>\n",
              "      <td>0</td>\n",
              "      <td>1</td>\n",
              "      <td>0</td>\n",
              "      <td>0</td>\n",
              "      <td>1</td>\n",
              "    </tr>\n",
              "    <tr>\n",
              "      <th>1</th>\n",
              "      <td>1</td>\n",
              "      <td>0.656017</td>\n",
              "      <td>0.554912</td>\n",
              "      <td>0.0</td>\n",
              "      <td>-0.429897</td>\n",
              "      <td>0.785795</td>\n",
              "      <td>0</td>\n",
              "      <td>1</td>\n",
              "      <td>0</td>\n",
              "      <td>1</td>\n",
              "      <td>0</td>\n",
              "      <td>0</td>\n",
              "    </tr>\n",
              "    <tr>\n",
              "      <th>2</th>\n",
              "      <td>3</td>\n",
              "      <td>-0.261062</td>\n",
              "      <td>-0.501833</td>\n",
              "      <td>0.0</td>\n",
              "      <td>4.238396</td>\n",
              "      <td>-0.482720</td>\n",
              "      <td>1</td>\n",
              "      <td>1</td>\n",
              "      <td>0</td>\n",
              "      <td>0</td>\n",
              "      <td>0</td>\n",
              "      <td>1</td>\n",
              "    </tr>\n",
              "    <tr>\n",
              "      <th>3</th>\n",
              "      <td>1</td>\n",
              "      <td>0.426747</td>\n",
              "      <td>0.554912</td>\n",
              "      <td>0.0</td>\n",
              "      <td>-0.284257</td>\n",
              "      <td>0.421741</td>\n",
              "      <td>0</td>\n",
              "      <td>1</td>\n",
              "      <td>0</td>\n",
              "      <td>0</td>\n",
              "      <td>0</td>\n",
              "      <td>1</td>\n",
              "    </tr>\n",
              "    <tr>\n",
              "      <th>4</th>\n",
              "      <td>3</td>\n",
              "      <td>0.426747</td>\n",
              "      <td>-0.501833</td>\n",
              "      <td>0.0</td>\n",
              "      <td>0.108815</td>\n",
              "      <td>-0.480218</td>\n",
              "      <td>1</td>\n",
              "      <td>0</td>\n",
              "      <td>1</td>\n",
              "      <td>0</td>\n",
              "      <td>0</td>\n",
              "      <td>1</td>\n",
              "    </tr>\n",
              "    <tr>\n",
              "      <th>...</th>\n",
              "      <td>...</td>\n",
              "      <td>...</td>\n",
              "      <td>...</td>\n",
              "      <td>...</td>\n",
              "      <td>...</td>\n",
              "      <td>...</td>\n",
              "      <td>...</td>\n",
              "      <td>...</td>\n",
              "      <td>...</td>\n",
              "      <td>...</td>\n",
              "      <td>...</td>\n",
              "      <td>...</td>\n",
              "    </tr>\n",
              "    <tr>\n",
              "      <th>1075</th>\n",
              "      <td>1</td>\n",
              "      <td>1.615363</td>\n",
              "      <td>0.554912</td>\n",
              "      <td>0.0</td>\n",
              "      <td>-0.411217</td>\n",
              "      <td>0.914476</td>\n",
              "      <td>0</td>\n",
              "      <td>0</td>\n",
              "      <td>0</td>\n",
              "      <td>1</td>\n",
              "      <td>0</td>\n",
              "      <td>0</td>\n",
              "    </tr>\n",
              "    <tr>\n",
              "      <th>1076</th>\n",
              "      <td>3</td>\n",
              "      <td>-0.002513</td>\n",
              "      <td>1.030353</td>\n",
              "      <td>0.0</td>\n",
              "      <td>4.238393</td>\n",
              "      <td>-0.406035</td>\n",
              "      <td>0</td>\n",
              "      <td>1</td>\n",
              "      <td>0</td>\n",
              "      <td>0</td>\n",
              "      <td>0</td>\n",
              "      <td>1</td>\n",
              "    </tr>\n",
              "    <tr>\n",
              "      <th>1077</th>\n",
              "      <td>3</td>\n",
              "      <td>-0.309090</td>\n",
              "      <td>-0.501833</td>\n",
              "      <td>0.0</td>\n",
              "      <td>-0.438430</td>\n",
              "      <td>-0.159584</td>\n",
              "      <td>1</td>\n",
              "      <td>0</td>\n",
              "      <td>1</td>\n",
              "      <td>0</td>\n",
              "      <td>0</td>\n",
              "      <td>1</td>\n",
              "    </tr>\n",
              "    <tr>\n",
              "      <th>1078</th>\n",
              "      <td>1</td>\n",
              "      <td>0.526633</td>\n",
              "      <td>-0.501833</td>\n",
              "      <td>0.0</td>\n",
              "      <td>-0.429660</td>\n",
              "      <td>7.131831</td>\n",
              "      <td>1</td>\n",
              "      <td>0</td>\n",
              "      <td>0</td>\n",
              "      <td>1</td>\n",
              "      <td>0</td>\n",
              "      <td>0</td>\n",
              "    </tr>\n",
              "    <tr>\n",
              "      <th>1079</th>\n",
              "      <td>1</td>\n",
              "      <td>-0.422336</td>\n",
              "      <td>-0.501833</td>\n",
              "      <td>0.0</td>\n",
              "      <td>-0.320917</td>\n",
              "      <td>2.715987</td>\n",
              "      <td>1</td>\n",
              "      <td>1</td>\n",
              "      <td>0</td>\n",
              "      <td>0</td>\n",
              "      <td>0</td>\n",
              "      <td>1</td>\n",
              "    </tr>\n",
              "  </tbody>\n",
              "</table>\n",
              "<p>1080 rows × 12 columns</p>\n",
              "</div>\n",
              "      <button class=\"colab-df-convert\" onclick=\"convertToInteractive('df-9734733a-342f-4491-9dbe-1ae5bb23861e')\"\n",
              "              title=\"Convert this dataframe to an interactive table.\"\n",
              "              style=\"display:none;\">\n",
              "        \n",
              "  <svg xmlns=\"http://www.w3.org/2000/svg\" height=\"24px\"viewBox=\"0 0 24 24\"\n",
              "       width=\"24px\">\n",
              "    <path d=\"M0 0h24v24H0V0z\" fill=\"none\"/>\n",
              "    <path d=\"M18.56 5.44l.94 2.06.94-2.06 2.06-.94-2.06-.94-.94-2.06-.94 2.06-2.06.94zm-11 1L8.5 8.5l.94-2.06 2.06-.94-2.06-.94L8.5 2.5l-.94 2.06-2.06.94zm10 10l.94 2.06.94-2.06 2.06-.94-2.06-.94-.94-2.06-.94 2.06-2.06.94z\"/><path d=\"M17.41 7.96l-1.37-1.37c-.4-.4-.92-.59-1.43-.59-.52 0-1.04.2-1.43.59L10.3 9.45l-7.72 7.72c-.78.78-.78 2.05 0 2.83L4 21.41c.39.39.9.59 1.41.59.51 0 1.02-.2 1.41-.59l7.78-7.78 2.81-2.81c.8-.78.8-2.07 0-2.86zM5.41 20L4 18.59l7.72-7.72 1.47 1.35L5.41 20z\"/>\n",
              "  </svg>\n",
              "      </button>\n",
              "      \n",
              "  <style>\n",
              "    .colab-df-container {\n",
              "      display:flex;\n",
              "      flex-wrap:wrap;\n",
              "      gap: 12px;\n",
              "    }\n",
              "\n",
              "    .colab-df-convert {\n",
              "      background-color: #E8F0FE;\n",
              "      border: none;\n",
              "      border-radius: 50%;\n",
              "      cursor: pointer;\n",
              "      display: none;\n",
              "      fill: #1967D2;\n",
              "      height: 32px;\n",
              "      padding: 0 0 0 0;\n",
              "      width: 32px;\n",
              "    }\n",
              "\n",
              "    .colab-df-convert:hover {\n",
              "      background-color: #E2EBFA;\n",
              "      box-shadow: 0px 1px 2px rgba(60, 64, 67, 0.3), 0px 1px 3px 1px rgba(60, 64, 67, 0.15);\n",
              "      fill: #174EA6;\n",
              "    }\n",
              "\n",
              "    [theme=dark] .colab-df-convert {\n",
              "      background-color: #3B4455;\n",
              "      fill: #D2E3FC;\n",
              "    }\n",
              "\n",
              "    [theme=dark] .colab-df-convert:hover {\n",
              "      background-color: #434B5C;\n",
              "      box-shadow: 0px 1px 3px 1px rgba(0, 0, 0, 0.15);\n",
              "      filter: drop-shadow(0px 1px 2px rgba(0, 0, 0, 0.3));\n",
              "      fill: #FFFFFF;\n",
              "    }\n",
              "  </style>\n",
              "\n",
              "      <script>\n",
              "        const buttonEl =\n",
              "          document.querySelector('#df-9734733a-342f-4491-9dbe-1ae5bb23861e button.colab-df-convert');\n",
              "        buttonEl.style.display =\n",
              "          google.colab.kernel.accessAllowed ? 'block' : 'none';\n",
              "\n",
              "        async function convertToInteractive(key) {\n",
              "          const element = document.querySelector('#df-9734733a-342f-4491-9dbe-1ae5bb23861e');\n",
              "          const dataTable =\n",
              "            await google.colab.kernel.invokeFunction('convertToInteractive',\n",
              "                                                     [key], {});\n",
              "          if (!dataTable) return;\n",
              "\n",
              "          const docLinkHtml = 'Like what you see? Visit the ' +\n",
              "            '<a target=\"_blank\" href=https://colab.research.google.com/notebooks/data_table.ipynb>data table notebook</a>'\n",
              "            + ' to learn more about interactive tables.';\n",
              "          element.innerHTML = '';\n",
              "          dataTable['output_type'] = 'display_data';\n",
              "          await google.colab.output.renderOutput(dataTable, element);\n",
              "          const docLink = document.createElement('div');\n",
              "          docLink.innerHTML = docLinkHtml;\n",
              "          element.appendChild(docLink);\n",
              "        }\n",
              "      </script>\n",
              "    </div>\n",
              "  </div>\n",
              "  "
            ],
            "text/plain": [
              "      Pclass       Age     SibSp  ...  Embarked_C  Embarked_Q  Embarked_S\n",
              "0          3 -0.566755  0.554912  ...           0           0           1\n",
              "1          1  0.656017  0.554912  ...           1           0           0\n",
              "2          3 -0.261062 -0.501833  ...           0           0           1\n",
              "3          1  0.426747  0.554912  ...           0           0           1\n",
              "4          3  0.426747 -0.501833  ...           0           0           1\n",
              "...      ...       ...       ...  ...         ...         ...         ...\n",
              "1075       1  1.615363  0.554912  ...           1           0           0\n",
              "1076       3 -0.002513  1.030353  ...           0           0           1\n",
              "1077       3 -0.309090 -0.501833  ...           0           0           1\n",
              "1078       1  0.526633 -0.501833  ...           1           0           0\n",
              "1079       1 -0.422336 -0.501833  ...           0           0           1\n",
              "\n",
              "[1080 rows x 12 columns]"
            ]
          },
          "metadata": {},
          "execution_count": 51
        }
      ]
    },
    {
      "cell_type": "code",
      "source": [
        "# Ratio between target values\n",
        "survive_to_die_rario=train_df['Survived'].value_counts()[1]/train_df['Survived'].value_counts()[0]\n",
        "survive_to_die_rario"
      ],
      "metadata": {
        "id": "05rbPwW1m5Sx",
        "colab": {
          "base_uri": "https://localhost:8080/"
        },
        "outputId": "3e550d1b-83dc-41e8-9d88-798ba7d20272"
      },
      "execution_count": null,
      "outputs": [
        {
          "output_type": "execute_result",
          "data": {
            "text/plain": [
              "1.0"
            ]
          },
          "metadata": {},
          "execution_count": 52
        }
      ]
    },
    {
      "cell_type": "markdown",
      "source": [
        "Train validation split "
      ],
      "metadata": {
        "id": "red1Qc9ymYMC"
      }
    },
    {
      "cell_type": "code",
      "source": [
        "from sklearn.model_selection import train_test_split\n",
        "x_train,x_valid,y_train,y_valid = train_test_split(x,y,test_size=0.2)\n"
      ],
      "metadata": {
        "id": "KtlDxQcXmXPi"
      },
      "execution_count": null,
      "outputs": []
    },
    {
      "cell_type": "markdown",
      "source": [
        "#ML /Models"
      ],
      "metadata": {
        "id": "FpKkmIJKYRgh"
      }
    },
    {
      "cell_type": "code",
      "source": [
        "from xgboost import XGBClassifier\n",
        "from sklearn.metrics import accuracy_score,f1_score\n",
        "from sklearn.model_selection import cross_val_score,GridSearchCV\n",
        "parameters={'n_estimators':[200],'learning_rate':[0.1],'max_depth':[6],'reg_lambda':[5,10,20,50,100]}\n",
        "model=XGBClassifier()\n",
        "grid_search=GridSearchCV(model,parameters)\n",
        "grid_search.fit(x_train,y_train)\n",
        "print(grid_search.best_estimator_)\n",
        "# model.fit(x_train,y_train)\n",
        "# y_pred=model.predict(x_valid)\n",
        "# scores=cross_val_score(grid_search,x_valid,y_valid,cv=5)\n",
        "y_pred=grid_search.predict(x_valid)\n",
        "\n",
        "# print(scores.mean())\n",
        "\n",
        "print(f'Train Accuracy = {accuracy_score(y_train,grid_search.predict(x_train))}')\n",
        "print(f'Train F1 Score = {f1_score(y_train,grid_search.predict(x_train))}')\n",
        "\n",
        "print(f'Valid Accuracy = {accuracy_score(y_valid,y_pred)}')\n",
        "print(f'Valid F1 Score = {f1_score(y_valid,y_pred)}')"
      ],
      "metadata": {
        "colab": {
          "base_uri": "https://localhost:8080/"
        },
        "id": "lrV-vslqYUAK",
        "outputId": "be1b5c74-c178-4f5b-f3d5-5b1f2d80e397"
      },
      "execution_count": null,
      "outputs": [
        {
          "output_type": "stream",
          "name": "stdout",
          "text": [
            "XGBClassifier(max_depth=6, n_estimators=200, reg_lambda=20)\n",
            "Train Accuracy = 0.9409722222222222\n",
            "Train F1 Score = 0.93935790725327\n",
            "Valid Accuracy = 0.8101851851851852\n",
            "Valid F1 Score = 0.8019323671497584\n"
          ]
        }
      ]
    },
    {
      "cell_type": "markdown",
      "source": [
        "Deep neural network"
      ],
      "metadata": {
        "id": "3it8bZrrw70b"
      }
    },
    {
      "cell_type": "code",
      "source": [
        "from tensorflow.keras import layers,models,optimizers,losses\n",
        "\n",
        "nn_model =models.Sequential([\n",
        "                   layers.Dense(units=512,activation='relu'),\n",
        "                   layers.Dropout(0.2),\n",
        "                   layers.Dense(units=64,activation='relu'),\n",
        "                   layers.Dropout(0.5),\n",
        "                   layers.Dense(units=64,activation='leaky_relu'),\n",
        "                   layers.Dropout(0.2),\n",
        "                  #  layers.Dense(units=32,activation='leaky_relu'),\n",
        "                   layers.Dense(units=1,activation='sigmoid'),\n",
        "])\n",
        "nn_model.compile(optimizer=optimizers.Adam(learning_rate=0.0005),loss=losses.BinaryCrossentropy(from_logits=True),metrics=['accuracy'])\n",
        "# callback = tf.keras.callbacks.EarlyStopping(monitor='loss', baseline=1)\n",
        "nn_model.fit (x_train,y_train,epochs=200)\n",
        "y_pred_train=nn_model.predict(x_train)\n",
        "y_pred_train=np.apply_along_axis(lambda x : 1 if x >=0.5 else 0 ,axis=1,arr=y_pred_train)\n",
        "\n",
        "y_pred_valid=nn_model.predict(x_valid)\n",
        "y_pred_valid=np.apply_along_axis(lambda x : 1 if x >=0.5 else 0 ,axis=1,arr=y_pred_valid)\n",
        "\n",
        "print(f'Train Accuracy = {accuracy_score(y_train,y_pred_train)}')\n",
        "print(f'Train F1 Score = {f1_score(y_train,y_pred_train)}')\n",
        "\n",
        "print(f'Valid Accuracy = {accuracy_score(y_valid,y_pred_valid)}')\n",
        "print(f'Valid F1 Score = {f1_score(y_valid,y_pred_valid)}')"
      ],
      "metadata": {
        "id": "jkRiwK6tZrQI",
        "colab": {
          "base_uri": "https://localhost:8080/"
        },
        "outputId": "5560bc03-31fb-4d79-dcbf-da47a1c9c1ce"
      },
      "execution_count": null,
      "outputs": [
        {
          "output_type": "stream",
          "name": "stdout",
          "text": [
            "Epoch 1/200\n"
          ]
        },
        {
          "output_type": "stream",
          "name": "stderr",
          "text": [
            "/usr/local/lib/python3.7/dist-packages/tensorflow/python/util/dispatch.py:1096: UserWarning: \"`binary_crossentropy` received `from_logits=True`, but the `output` argument was produced by a sigmoid or softmax activation and thus does not represent logits. Was this intended?\"\n",
            "  return dispatch_target(*args, **kwargs)\n"
          ]
        },
        {
          "output_type": "stream",
          "name": "stdout",
          "text": [
            "27/27 [==============================] - 2s 3ms/step - loss: 0.6644 - accuracy: 0.5914\n",
            "Epoch 2/200\n",
            "27/27 [==============================] - 0s 2ms/step - loss: 0.5813 - accuracy: 0.7222\n",
            "Epoch 3/200\n",
            "27/27 [==============================] - 0s 2ms/step - loss: 0.5020 - accuracy: 0.7824\n",
            "Epoch 4/200\n",
            "27/27 [==============================] - 0s 2ms/step - loss: 0.4688 - accuracy: 0.7998\n",
            "Epoch 5/200\n",
            "27/27 [==============================] - 0s 2ms/step - loss: 0.4333 - accuracy: 0.8229\n",
            "Epoch 6/200\n",
            "27/27 [==============================] - 0s 9ms/step - loss: 0.4411 - accuracy: 0.8009\n",
            "Epoch 7/200\n",
            "27/27 [==============================] - 0s 2ms/step - loss: 0.4435 - accuracy: 0.8113\n",
            "Epoch 8/200\n",
            "27/27 [==============================] - 0s 2ms/step - loss: 0.4253 - accuracy: 0.8102\n",
            "Epoch 9/200\n",
            "27/27 [==============================] - 0s 3ms/step - loss: 0.4024 - accuracy: 0.8079\n",
            "Epoch 10/200\n",
            "27/27 [==============================] - 0s 2ms/step - loss: 0.4220 - accuracy: 0.8125\n",
            "Epoch 11/200\n",
            "27/27 [==============================] - 0s 2ms/step - loss: 0.4177 - accuracy: 0.8079\n",
            "Epoch 12/200\n",
            "27/27 [==============================] - 0s 2ms/step - loss: 0.4009 - accuracy: 0.8252\n",
            "Epoch 13/200\n",
            "27/27 [==============================] - 0s 3ms/step - loss: 0.4046 - accuracy: 0.8218\n",
            "Epoch 14/200\n",
            "27/27 [==============================] - 0s 3ms/step - loss: 0.3944 - accuracy: 0.8264\n",
            "Epoch 15/200\n",
            "27/27 [==============================] - 0s 3ms/step - loss: 0.4025 - accuracy: 0.8287\n",
            "Epoch 16/200\n",
            "27/27 [==============================] - 0s 2ms/step - loss: 0.3872 - accuracy: 0.8287\n",
            "Epoch 17/200\n",
            "27/27 [==============================] - 0s 3ms/step - loss: 0.3928 - accuracy: 0.8322\n",
            "Epoch 18/200\n",
            "27/27 [==============================] - 0s 3ms/step - loss: 0.3842 - accuracy: 0.8333\n",
            "Epoch 19/200\n",
            "27/27 [==============================] - 0s 2ms/step - loss: 0.3817 - accuracy: 0.8322\n",
            "Epoch 20/200\n",
            "27/27 [==============================] - 0s 3ms/step - loss: 0.3764 - accuracy: 0.8310\n",
            "Epoch 21/200\n",
            "27/27 [==============================] - 0s 3ms/step - loss: 0.3757 - accuracy: 0.8426\n",
            "Epoch 22/200\n",
            "27/27 [==============================] - 0s 2ms/step - loss: 0.3722 - accuracy: 0.8368\n",
            "Epoch 23/200\n",
            "27/27 [==============================] - 0s 2ms/step - loss: 0.3841 - accuracy: 0.8322\n",
            "Epoch 24/200\n",
            "27/27 [==============================] - 0s 3ms/step - loss: 0.3674 - accuracy: 0.8484\n",
            "Epoch 25/200\n",
            "27/27 [==============================] - 0s 3ms/step - loss: 0.3717 - accuracy: 0.8414\n",
            "Epoch 26/200\n",
            "27/27 [==============================] - 0s 2ms/step - loss: 0.3816 - accuracy: 0.8356\n",
            "Epoch 27/200\n",
            "27/27 [==============================] - 0s 2ms/step - loss: 0.3786 - accuracy: 0.8414\n",
            "Epoch 28/200\n",
            "27/27 [==============================] - 0s 2ms/step - loss: 0.3667 - accuracy: 0.8391\n",
            "Epoch 29/200\n",
            "27/27 [==============================] - 0s 3ms/step - loss: 0.3568 - accuracy: 0.8449\n",
            "Epoch 30/200\n",
            "27/27 [==============================] - 0s 3ms/step - loss: 0.3766 - accuracy: 0.8368\n",
            "Epoch 31/200\n",
            "27/27 [==============================] - 0s 3ms/step - loss: 0.3758 - accuracy: 0.8403\n",
            "Epoch 32/200\n",
            "27/27 [==============================] - 0s 3ms/step - loss: 0.3628 - accuracy: 0.8449\n",
            "Epoch 33/200\n",
            "27/27 [==============================] - 0s 3ms/step - loss: 0.3743 - accuracy: 0.8333\n",
            "Epoch 34/200\n",
            "27/27 [==============================] - 0s 2ms/step - loss: 0.3585 - accuracy: 0.8391\n",
            "Epoch 35/200\n",
            "27/27 [==============================] - 0s 2ms/step - loss: 0.3531 - accuracy: 0.8472\n",
            "Epoch 36/200\n",
            "27/27 [==============================] - 0s 2ms/step - loss: 0.3537 - accuracy: 0.8426\n",
            "Epoch 37/200\n",
            "27/27 [==============================] - 0s 2ms/step - loss: 0.3581 - accuracy: 0.8449\n",
            "Epoch 38/200\n",
            "27/27 [==============================] - 0s 2ms/step - loss: 0.3646 - accuracy: 0.8461\n",
            "Epoch 39/200\n",
            "27/27 [==============================] - 0s 3ms/step - loss: 0.3622 - accuracy: 0.8461\n",
            "Epoch 40/200\n",
            "27/27 [==============================] - 0s 3ms/step - loss: 0.3599 - accuracy: 0.8519\n",
            "Epoch 41/200\n",
            "27/27 [==============================] - 0s 2ms/step - loss: 0.3575 - accuracy: 0.8472\n",
            "Epoch 42/200\n",
            "27/27 [==============================] - 0s 2ms/step - loss: 0.3467 - accuracy: 0.8519\n",
            "Epoch 43/200\n",
            "27/27 [==============================] - 0s 3ms/step - loss: 0.3514 - accuracy: 0.8495\n",
            "Epoch 44/200\n",
            "27/27 [==============================] - 0s 3ms/step - loss: 0.3596 - accuracy: 0.8542\n",
            "Epoch 45/200\n",
            "27/27 [==============================] - 0s 2ms/step - loss: 0.3512 - accuracy: 0.8530\n",
            "Epoch 46/200\n",
            "27/27 [==============================] - 0s 3ms/step - loss: 0.3537 - accuracy: 0.8507\n",
            "Epoch 47/200\n",
            "27/27 [==============================] - 0s 3ms/step - loss: 0.3498 - accuracy: 0.8438\n",
            "Epoch 48/200\n",
            "27/27 [==============================] - 0s 3ms/step - loss: 0.3350 - accuracy: 0.8576\n",
            "Epoch 49/200\n",
            "27/27 [==============================] - 0s 2ms/step - loss: 0.3413 - accuracy: 0.8519\n",
            "Epoch 50/200\n",
            "27/27 [==============================] - 0s 2ms/step - loss: 0.3533 - accuracy: 0.8588\n",
            "Epoch 51/200\n",
            "27/27 [==============================] - 0s 2ms/step - loss: 0.3469 - accuracy: 0.8611\n",
            "Epoch 52/200\n",
            "27/27 [==============================] - 0s 3ms/step - loss: 0.3434 - accuracy: 0.8530\n",
            "Epoch 53/200\n",
            "27/27 [==============================] - 0s 2ms/step - loss: 0.3554 - accuracy: 0.8403\n",
            "Epoch 54/200\n",
            "27/27 [==============================] - 0s 2ms/step - loss: 0.3311 - accuracy: 0.8565\n",
            "Epoch 55/200\n",
            "27/27 [==============================] - 0s 3ms/step - loss: 0.3255 - accuracy: 0.8495\n",
            "Epoch 56/200\n",
            "27/27 [==============================] - 0s 3ms/step - loss: 0.3407 - accuracy: 0.8576\n",
            "Epoch 57/200\n",
            "27/27 [==============================] - 0s 3ms/step - loss: 0.3378 - accuracy: 0.8576\n",
            "Epoch 58/200\n",
            "27/27 [==============================] - 0s 2ms/step - loss: 0.3467 - accuracy: 0.8507\n",
            "Epoch 59/200\n",
            "27/27 [==============================] - 0s 3ms/step - loss: 0.3383 - accuracy: 0.8565\n",
            "Epoch 60/200\n",
            "27/27 [==============================] - 0s 3ms/step - loss: 0.3326 - accuracy: 0.8576\n",
            "Epoch 61/200\n",
            "27/27 [==============================] - 0s 2ms/step - loss: 0.3427 - accuracy: 0.8588\n",
            "Epoch 62/200\n",
            "27/27 [==============================] - 0s 2ms/step - loss: 0.3344 - accuracy: 0.8553\n",
            "Epoch 63/200\n",
            "27/27 [==============================] - 0s 2ms/step - loss: 0.3350 - accuracy: 0.8565\n",
            "Epoch 64/200\n",
            "27/27 [==============================] - 0s 3ms/step - loss: 0.3360 - accuracy: 0.8588\n",
            "Epoch 65/200\n",
            "27/27 [==============================] - 0s 2ms/step - loss: 0.3325 - accuracy: 0.8611\n",
            "Epoch 66/200\n",
            "27/27 [==============================] - 0s 2ms/step - loss: 0.3427 - accuracy: 0.8542\n",
            "Epoch 67/200\n",
            "27/27 [==============================] - 0s 3ms/step - loss: 0.3254 - accuracy: 0.8669\n",
            "Epoch 68/200\n",
            "27/27 [==============================] - 0s 3ms/step - loss: 0.3280 - accuracy: 0.8542\n",
            "Epoch 69/200\n",
            "27/27 [==============================] - 0s 2ms/step - loss: 0.3208 - accuracy: 0.8634\n",
            "Epoch 70/200\n",
            "27/27 [==============================] - 0s 2ms/step - loss: 0.3198 - accuracy: 0.8565\n",
            "Epoch 71/200\n",
            "27/27 [==============================] - 0s 3ms/step - loss: 0.3395 - accuracy: 0.8646\n",
            "Epoch 72/200\n",
            "27/27 [==============================] - 0s 3ms/step - loss: 0.3298 - accuracy: 0.8576\n",
            "Epoch 73/200\n",
            "27/27 [==============================] - 0s 3ms/step - loss: 0.3196 - accuracy: 0.8634\n",
            "Epoch 74/200\n",
            "27/27 [==============================] - 0s 2ms/step - loss: 0.3395 - accuracy: 0.8611\n",
            "Epoch 75/200\n",
            "27/27 [==============================] - 0s 2ms/step - loss: 0.3227 - accuracy: 0.8611\n",
            "Epoch 76/200\n",
            "27/27 [==============================] - 0s 3ms/step - loss: 0.3317 - accuracy: 0.8611\n",
            "Epoch 77/200\n",
            "27/27 [==============================] - 0s 3ms/step - loss: 0.3142 - accuracy: 0.8542\n",
            "Epoch 78/200\n",
            "27/27 [==============================] - 0s 2ms/step - loss: 0.3249 - accuracy: 0.8611\n",
            "Epoch 79/200\n",
            "27/27 [==============================] - 0s 2ms/step - loss: 0.3412 - accuracy: 0.8449\n",
            "Epoch 80/200\n",
            "27/27 [==============================] - 0s 3ms/step - loss: 0.3147 - accuracy: 0.8576\n",
            "Epoch 81/200\n",
            "27/27 [==============================] - 0s 2ms/step - loss: 0.3345 - accuracy: 0.8484\n",
            "Epoch 82/200\n",
            "27/27 [==============================] - 0s 2ms/step - loss: 0.3157 - accuracy: 0.8657\n",
            "Epoch 83/200\n",
            "27/27 [==============================] - 0s 3ms/step - loss: 0.3297 - accuracy: 0.8623\n",
            "Epoch 84/200\n",
            "27/27 [==============================] - 0s 3ms/step - loss: 0.3215 - accuracy: 0.8646\n",
            "Epoch 85/200\n",
            "27/27 [==============================] - 0s 2ms/step - loss: 0.3104 - accuracy: 0.8692\n",
            "Epoch 86/200\n",
            "27/27 [==============================] - 0s 3ms/step - loss: 0.3243 - accuracy: 0.8657\n",
            "Epoch 87/200\n",
            "27/27 [==============================] - 0s 3ms/step - loss: 0.3192 - accuracy: 0.8750\n",
            "Epoch 88/200\n",
            "27/27 [==============================] - 0s 3ms/step - loss: 0.3125 - accuracy: 0.8507\n",
            "Epoch 89/200\n",
            "27/27 [==============================] - 0s 3ms/step - loss: 0.3238 - accuracy: 0.8530\n",
            "Epoch 90/200\n",
            "27/27 [==============================] - 0s 3ms/step - loss: 0.3134 - accuracy: 0.8727\n",
            "Epoch 91/200\n",
            "27/27 [==============================] - 0s 3ms/step - loss: 0.3090 - accuracy: 0.8646\n",
            "Epoch 92/200\n",
            "27/27 [==============================] - 0s 3ms/step - loss: 0.3114 - accuracy: 0.8704\n",
            "Epoch 93/200\n",
            "27/27 [==============================] - 0s 3ms/step - loss: 0.3126 - accuracy: 0.8646\n",
            "Epoch 94/200\n",
            "27/27 [==============================] - 0s 3ms/step - loss: 0.3247 - accuracy: 0.8576\n",
            "Epoch 95/200\n",
            "27/27 [==============================] - 0s 3ms/step - loss: 0.3073 - accuracy: 0.8669\n",
            "Epoch 96/200\n",
            "27/27 [==============================] - 0s 3ms/step - loss: 0.3107 - accuracy: 0.8646\n",
            "Epoch 97/200\n",
            "27/27 [==============================] - 0s 3ms/step - loss: 0.3211 - accuracy: 0.8600\n",
            "Epoch 98/200\n",
            "27/27 [==============================] - 0s 2ms/step - loss: 0.3105 - accuracy: 0.8623\n",
            "Epoch 99/200\n",
            "27/27 [==============================] - 0s 3ms/step - loss: 0.3071 - accuracy: 0.8611\n",
            "Epoch 100/200\n",
            "27/27 [==============================] - 0s 3ms/step - loss: 0.3044 - accuracy: 0.8611\n",
            "Epoch 101/200\n",
            "27/27 [==============================] - 0s 2ms/step - loss: 0.3093 - accuracy: 0.8669\n",
            "Epoch 102/200\n",
            "27/27 [==============================] - 0s 2ms/step - loss: 0.3145 - accuracy: 0.8623\n",
            "Epoch 103/200\n",
            "27/27 [==============================] - 0s 2ms/step - loss: 0.2987 - accuracy: 0.8715\n",
            "Epoch 104/200\n",
            "27/27 [==============================] - 0s 3ms/step - loss: 0.3100 - accuracy: 0.8657\n",
            "Epoch 105/200\n",
            "27/27 [==============================] - 0s 3ms/step - loss: 0.3052 - accuracy: 0.8704\n",
            "Epoch 106/200\n",
            "27/27 [==============================] - 0s 3ms/step - loss: 0.2991 - accuracy: 0.8762\n",
            "Epoch 107/200\n",
            "27/27 [==============================] - 0s 3ms/step - loss: 0.2970 - accuracy: 0.8727\n",
            "Epoch 108/200\n",
            "27/27 [==============================] - 0s 3ms/step - loss: 0.3043 - accuracy: 0.8773\n",
            "Epoch 109/200\n",
            "27/27 [==============================] - 0s 2ms/step - loss: 0.3245 - accuracy: 0.8657\n",
            "Epoch 110/200\n",
            "27/27 [==============================] - 0s 3ms/step - loss: 0.3075 - accuracy: 0.8785\n",
            "Epoch 111/200\n",
            "27/27 [==============================] - 0s 3ms/step - loss: 0.3016 - accuracy: 0.8750\n",
            "Epoch 112/200\n",
            "27/27 [==============================] - 0s 3ms/step - loss: 0.2953 - accuracy: 0.8646\n",
            "Epoch 113/200\n",
            "27/27 [==============================] - 0s 3ms/step - loss: 0.2997 - accuracy: 0.8773\n",
            "Epoch 114/200\n",
            "27/27 [==============================] - 0s 2ms/step - loss: 0.3131 - accuracy: 0.8681\n",
            "Epoch 115/200\n",
            "27/27 [==============================] - 0s 2ms/step - loss: 0.3063 - accuracy: 0.8692\n",
            "Epoch 116/200\n",
            "27/27 [==============================] - 0s 3ms/step - loss: 0.3028 - accuracy: 0.8819\n",
            "Epoch 117/200\n",
            "27/27 [==============================] - 0s 2ms/step - loss: 0.3068 - accuracy: 0.8704\n",
            "Epoch 118/200\n",
            "27/27 [==============================] - 0s 2ms/step - loss: 0.3087 - accuracy: 0.8715\n",
            "Epoch 119/200\n",
            "27/27 [==============================] - 0s 2ms/step - loss: 0.2930 - accuracy: 0.8681\n",
            "Epoch 120/200\n",
            "27/27 [==============================] - 0s 2ms/step - loss: 0.2950 - accuracy: 0.8692\n",
            "Epoch 121/200\n",
            "27/27 [==============================] - 0s 2ms/step - loss: 0.3028 - accuracy: 0.8785\n",
            "Epoch 122/200\n",
            "27/27 [==============================] - 0s 2ms/step - loss: 0.2943 - accuracy: 0.8750\n",
            "Epoch 123/200\n",
            "27/27 [==============================] - 0s 3ms/step - loss: 0.2954 - accuracy: 0.8762\n",
            "Epoch 124/200\n",
            "27/27 [==============================] - 0s 2ms/step - loss: 0.2871 - accuracy: 0.8808\n",
            "Epoch 125/200\n",
            "27/27 [==============================] - 0s 3ms/step - loss: 0.2961 - accuracy: 0.8750\n",
            "Epoch 126/200\n",
            "27/27 [==============================] - 0s 2ms/step - loss: 0.2999 - accuracy: 0.8773\n",
            "Epoch 127/200\n",
            "27/27 [==============================] - 0s 3ms/step - loss: 0.3003 - accuracy: 0.8704\n",
            "Epoch 128/200\n",
            "27/27 [==============================] - 0s 2ms/step - loss: 0.2896 - accuracy: 0.8785\n",
            "Epoch 129/200\n",
            "27/27 [==============================] - 0s 3ms/step - loss: 0.2975 - accuracy: 0.8750\n",
            "Epoch 130/200\n",
            "27/27 [==============================] - 0s 2ms/step - loss: 0.2973 - accuracy: 0.8681\n",
            "Epoch 131/200\n",
            "27/27 [==============================] - 0s 2ms/step - loss: 0.2907 - accuracy: 0.8704\n",
            "Epoch 132/200\n",
            "27/27 [==============================] - 0s 3ms/step - loss: 0.2952 - accuracy: 0.8843\n",
            "Epoch 133/200\n",
            "27/27 [==============================] - 0s 3ms/step - loss: 0.2945 - accuracy: 0.8692\n",
            "Epoch 134/200\n",
            "27/27 [==============================] - 0s 2ms/step - loss: 0.3015 - accuracy: 0.8565\n",
            "Epoch 135/200\n",
            "27/27 [==============================] - 0s 3ms/step - loss: 0.2869 - accuracy: 0.8669\n",
            "Epoch 136/200\n",
            "27/27 [==============================] - 0s 2ms/step - loss: 0.3077 - accuracy: 0.8646\n",
            "Epoch 137/200\n",
            "27/27 [==============================] - 0s 3ms/step - loss: 0.2966 - accuracy: 0.8669\n",
            "Epoch 138/200\n",
            "27/27 [==============================] - 0s 2ms/step - loss: 0.2723 - accuracy: 0.8796\n",
            "Epoch 139/200\n",
            "27/27 [==============================] - 0s 2ms/step - loss: 0.2846 - accuracy: 0.8773\n",
            "Epoch 140/200\n",
            "27/27 [==============================] - 0s 3ms/step - loss: 0.2983 - accuracy: 0.8738\n",
            "Epoch 141/200\n",
            "27/27 [==============================] - 0s 3ms/step - loss: 0.2913 - accuracy: 0.8738\n",
            "Epoch 142/200\n",
            "27/27 [==============================] - 0s 3ms/step - loss: 0.3051 - accuracy: 0.8727\n",
            "Epoch 143/200\n",
            "27/27 [==============================] - 0s 2ms/step - loss: 0.2946 - accuracy: 0.8657\n",
            "Epoch 144/200\n",
            "27/27 [==============================] - 0s 3ms/step - loss: 0.2972 - accuracy: 0.8715\n",
            "Epoch 145/200\n",
            "27/27 [==============================] - 0s 2ms/step - loss: 0.2858 - accuracy: 0.8785\n",
            "Epoch 146/200\n",
            "27/27 [==============================] - 0s 3ms/step - loss: 0.2904 - accuracy: 0.8657\n",
            "Epoch 147/200\n",
            "27/27 [==============================] - 0s 3ms/step - loss: 0.2830 - accuracy: 0.8727\n",
            "Epoch 148/200\n",
            "27/27 [==============================] - 0s 2ms/step - loss: 0.2869 - accuracy: 0.8727\n",
            "Epoch 149/200\n",
            "27/27 [==============================] - 0s 3ms/step - loss: 0.2903 - accuracy: 0.8808\n",
            "Epoch 150/200\n",
            "27/27 [==============================] - 0s 2ms/step - loss: 0.2960 - accuracy: 0.8669\n",
            "Epoch 151/200\n",
            "27/27 [==============================] - 0s 3ms/step - loss: 0.2709 - accuracy: 0.8738\n",
            "Epoch 152/200\n",
            "27/27 [==============================] - 0s 2ms/step - loss: 0.2756 - accuracy: 0.8796\n",
            "Epoch 153/200\n",
            "27/27 [==============================] - 0s 3ms/step - loss: 0.2789 - accuracy: 0.8843\n",
            "Epoch 154/200\n",
            "27/27 [==============================] - 0s 3ms/step - loss: 0.2863 - accuracy: 0.8796\n",
            "Epoch 155/200\n",
            "27/27 [==============================] - 0s 2ms/step - loss: 0.2825 - accuracy: 0.8831\n",
            "Epoch 156/200\n",
            "27/27 [==============================] - 0s 3ms/step - loss: 0.2806 - accuracy: 0.8773\n",
            "Epoch 157/200\n",
            "27/27 [==============================] - 0s 2ms/step - loss: 0.2790 - accuracy: 0.8704\n",
            "Epoch 158/200\n",
            "27/27 [==============================] - 0s 2ms/step - loss: 0.2855 - accuracy: 0.8796\n",
            "Epoch 159/200\n",
            "27/27 [==============================] - 0s 3ms/step - loss: 0.2902 - accuracy: 0.8819\n",
            "Epoch 160/200\n",
            "27/27 [==============================] - 0s 3ms/step - loss: 0.2737 - accuracy: 0.8808\n",
            "Epoch 161/200\n",
            "27/27 [==============================] - 0s 3ms/step - loss: 0.2700 - accuracy: 0.8773\n",
            "Epoch 162/200\n",
            "27/27 [==============================] - 0s 3ms/step - loss: 0.2688 - accuracy: 0.8843\n",
            "Epoch 163/200\n",
            "27/27 [==============================] - 0s 3ms/step - loss: 0.2835 - accuracy: 0.8715\n",
            "Epoch 164/200\n",
            "27/27 [==============================] - 0s 3ms/step - loss: 0.2880 - accuracy: 0.8715\n",
            "Epoch 165/200\n",
            "27/27 [==============================] - 0s 2ms/step - loss: 0.2814 - accuracy: 0.8692\n",
            "Epoch 166/200\n",
            "27/27 [==============================] - 0s 3ms/step - loss: 0.2889 - accuracy: 0.8669\n",
            "Epoch 167/200\n",
            "27/27 [==============================] - 0s 3ms/step - loss: 0.2866 - accuracy: 0.8727\n",
            "Epoch 168/200\n",
            "27/27 [==============================] - 0s 3ms/step - loss: 0.2760 - accuracy: 0.8715\n",
            "Epoch 169/200\n",
            "27/27 [==============================] - 0s 2ms/step - loss: 0.2596 - accuracy: 0.8912\n",
            "Epoch 170/200\n",
            "27/27 [==============================] - 0s 3ms/step - loss: 0.2738 - accuracy: 0.8808\n",
            "Epoch 171/200\n",
            "27/27 [==============================] - 0s 2ms/step - loss: 0.2763 - accuracy: 0.8854\n",
            "Epoch 172/200\n",
            "27/27 [==============================] - 0s 2ms/step - loss: 0.2758 - accuracy: 0.8808\n",
            "Epoch 173/200\n",
            "27/27 [==============================] - 0s 3ms/step - loss: 0.2640 - accuracy: 0.8889\n",
            "Epoch 174/200\n",
            "27/27 [==============================] - 0s 3ms/step - loss: 0.2707 - accuracy: 0.8854\n",
            "Epoch 175/200\n",
            "27/27 [==============================] - 0s 3ms/step - loss: 0.2736 - accuracy: 0.8750\n",
            "Epoch 176/200\n",
            "27/27 [==============================] - 0s 3ms/step - loss: 0.2593 - accuracy: 0.8924\n",
            "Epoch 177/200\n",
            "27/27 [==============================] - 0s 2ms/step - loss: 0.2724 - accuracy: 0.8773\n",
            "Epoch 178/200\n",
            "27/27 [==============================] - 0s 3ms/step - loss: 0.2714 - accuracy: 0.8704\n",
            "Epoch 179/200\n",
            "27/27 [==============================] - 0s 3ms/step - loss: 0.2776 - accuracy: 0.8785\n",
            "Epoch 180/200\n",
            "27/27 [==============================] - 0s 3ms/step - loss: 0.2710 - accuracy: 0.8773\n",
            "Epoch 181/200\n",
            "27/27 [==============================] - 0s 3ms/step - loss: 0.2763 - accuracy: 0.8796\n",
            "Epoch 182/200\n",
            "27/27 [==============================] - 0s 3ms/step - loss: 0.2725 - accuracy: 0.8819\n",
            "Epoch 183/200\n",
            "27/27 [==============================] - 0s 3ms/step - loss: 0.2710 - accuracy: 0.8866\n",
            "Epoch 184/200\n",
            "27/27 [==============================] - 0s 3ms/step - loss: 0.2678 - accuracy: 0.8924\n",
            "Epoch 185/200\n",
            "27/27 [==============================] - 0s 3ms/step - loss: 0.2704 - accuracy: 0.8796\n",
            "Epoch 186/200\n",
            "27/27 [==============================] - 0s 3ms/step - loss: 0.2613 - accuracy: 0.8843\n",
            "Epoch 187/200\n",
            "27/27 [==============================] - 0s 3ms/step - loss: 0.2661 - accuracy: 0.8831\n",
            "Epoch 188/200\n",
            "27/27 [==============================] - 0s 3ms/step - loss: 0.2792 - accuracy: 0.8808\n",
            "Epoch 189/200\n",
            "27/27 [==============================] - 0s 3ms/step - loss: 0.2608 - accuracy: 0.8843\n",
            "Epoch 190/200\n",
            "27/27 [==============================] - 0s 3ms/step - loss: 0.2694 - accuracy: 0.8808\n",
            "Epoch 191/200\n",
            "27/27 [==============================] - 0s 2ms/step - loss: 0.2684 - accuracy: 0.8900\n",
            "Epoch 192/200\n",
            "27/27 [==============================] - 0s 3ms/step - loss: 0.2721 - accuracy: 0.8773\n",
            "Epoch 193/200\n",
            "27/27 [==============================] - 0s 2ms/step - loss: 0.2620 - accuracy: 0.8889\n",
            "Epoch 194/200\n",
            "27/27 [==============================] - 0s 3ms/step - loss: 0.2694 - accuracy: 0.8819\n",
            "Epoch 195/200\n",
            "27/27 [==============================] - 0s 3ms/step - loss: 0.2742 - accuracy: 0.8819\n",
            "Epoch 196/200\n",
            "27/27 [==============================] - 0s 3ms/step - loss: 0.2643 - accuracy: 0.8877\n",
            "Epoch 197/200\n",
            "27/27 [==============================] - 0s 3ms/step - loss: 0.2679 - accuracy: 0.8785\n",
            "Epoch 198/200\n",
            "27/27 [==============================] - 0s 3ms/step - loss: 0.2633 - accuracy: 0.8854\n",
            "Epoch 199/200\n",
            "27/27 [==============================] - 0s 3ms/step - loss: 0.2588 - accuracy: 0.8970\n",
            "Epoch 200/200\n",
            "27/27 [==============================] - 0s 3ms/step - loss: 0.2637 - accuracy: 0.8785\n",
            "Train Accuracy = 0.8993055555555556\n",
            "Train F1 Score = 0.8953068592057761\n",
            "Valid Accuracy = 0.7962962962962963\n",
            "Valid F1 Score = 0.7884615384615384\n"
          ]
        }
      ]
    },
    {
      "cell_type": "markdown",
      "source": [
        "Support Vector Machine"
      ],
      "metadata": {
        "id": "Dm2R2txExBhI"
      }
    },
    {
      "cell_type": "code",
      "source": [
        "from sklearn import svm \n",
        "svm_model=svm.NuSVC()\n",
        "svm_model.fit(x_train,y_train)\n",
        "\n",
        "y_pred=svm_model.predict(x_valid)\n",
        "\n",
        "print(f'Train Accuracy = {accuracy_score(y_train,svm_model.predict(x_train))}')\n",
        "print(f'Train F1 Score = {f1_score(y_train,svm_model.predict(x_train))}')\n",
        "\n",
        "print(f'Valid Accuracy = {accuracy_score(y_valid,y_pred)}')\n",
        "print(f'Valid F1 Score = {f1_score(y_valid,y_pred)}')"
      ],
      "metadata": {
        "colab": {
          "base_uri": "https://localhost:8080/"
        },
        "id": "ETpdDvGxw_eP",
        "outputId": "c5f1615f-0d1b-4a6c-b464-321d6b462284"
      },
      "execution_count": null,
      "outputs": [
        {
          "output_type": "stream",
          "name": "stdout",
          "text": [
            "Train Accuracy = 0.8252314814814815\n",
            "Train F1 Score = 0.8147239263803682\n",
            "Valid Accuracy = 0.7824074074074074\n",
            "Valid F1 Score = 0.7661691542288557\n"
          ]
        }
      ]
    },
    {
      "cell_type": "markdown",
      "source": [
        "#Prepare test dataset"
      ],
      "metadata": {
        "id": "d0QDVcDfgwji"
      }
    },
    {
      "cell_type": "code",
      "source": [
        "test_df=pd.read_csv('test.csv',index_col='PassengerId')\n",
        "# test_df=test_df.drop(['Name','Ticket'],axis=1)\n",
        "test_df=test_df.drop(['Name'],axis=1)\n",
        "test_df=test_df.drop('Cabin',axis=1)\n",
        "test_df['Ticket']=test_df['Ticket'].apply(lambda x : x.split(' ')[-1] if len(x.split(' ')) >=2 else x)\n",
        "test_df['Ticket']=test_df['Ticket'].apply(lambda x : x if x[0].isdigit() else np.NAN)\n",
        "\n",
        "test_df['IsAlone']=test_df['SibSp'] + test_df['Parch']\n",
        "test_df['IsAlone']=test_df['IsAlone'].apply(lambda x: 0 if x >0 else 1)\n",
        "\n",
        "test_df[['Age','Parch','Ticket']]=numirical_imputer.transform(test_df[['Age','Parch','Ticket']])\n",
        "test_df[['Embarked','Sex','Fare']]=categorical_imputer.transform(test_df[['Embarked','Sex','Fare']])\n",
        "# test_df['SibSp']=np.log1p(test_df['SibSp'])\n",
        "# test_df['Fare']=np.log1p(test_df['Fare'])\n",
        "# test_df['Ticket']=np.log1p(test_df['Ticket'])\n",
        "\n",
        "col_to_standard=['Age','Fare','SibSp','Ticket']\n",
        "test_df[col_to_standard]=scaler.transform(test_df[col_to_standard])\n",
        "\n",
        "test_df=pd.get_dummies(test_df)\n",
        "test_df"
      ],
      "metadata": {
        "colab": {
          "base_uri": "https://localhost:8080/",
          "height": 455
        },
        "id": "qHBCKtUsIbVg",
        "outputId": "06a58f1a-423e-4b34-8669-e3416d8aa577"
      },
      "execution_count": null,
      "outputs": [
        {
          "output_type": "execute_result",
          "data": {
            "text/html": [
              "\n",
              "  <div id=\"df-d4a26217-f73c-4565-a4a8-1864bee1cfdd\">\n",
              "    <div class=\"colab-df-container\">\n",
              "      <div>\n",
              "<style scoped>\n",
              "    .dataframe tbody tr th:only-of-type {\n",
              "        vertical-align: middle;\n",
              "    }\n",
              "\n",
              "    .dataframe tbody tr th {\n",
              "        vertical-align: top;\n",
              "    }\n",
              "\n",
              "    .dataframe thead th {\n",
              "        text-align: right;\n",
              "    }\n",
              "</style>\n",
              "<table border=\"1\" class=\"dataframe\">\n",
              "  <thead>\n",
              "    <tr style=\"text-align: right;\">\n",
              "      <th></th>\n",
              "      <th>Pclass</th>\n",
              "      <th>Age</th>\n",
              "      <th>SibSp</th>\n",
              "      <th>Parch</th>\n",
              "      <th>Ticket</th>\n",
              "      <th>Fare</th>\n",
              "      <th>IsAlone</th>\n",
              "      <th>Sex_female</th>\n",
              "      <th>Sex_male</th>\n",
              "      <th>Embarked_C</th>\n",
              "      <th>Embarked_Q</th>\n",
              "      <th>Embarked_S</th>\n",
              "    </tr>\n",
              "    <tr>\n",
              "      <th>PassengerId</th>\n",
              "      <th></th>\n",
              "      <th></th>\n",
              "      <th></th>\n",
              "      <th></th>\n",
              "      <th></th>\n",
              "      <th></th>\n",
              "      <th></th>\n",
              "      <th></th>\n",
              "      <th></th>\n",
              "      <th></th>\n",
              "      <th></th>\n",
              "      <th></th>\n",
              "    </tr>\n",
              "  </thead>\n",
              "  <tbody>\n",
              "    <tr>\n",
              "      <th>892</th>\n",
              "      <td>3</td>\n",
              "      <td>0.388535</td>\n",
              "      <td>-0.501833</td>\n",
              "      <td>0.0</td>\n",
              "      <td>0.044416</td>\n",
              "      <td>-0.484638</td>\n",
              "      <td>1</td>\n",
              "      <td>0</td>\n",
              "      <td>1</td>\n",
              "      <td>0</td>\n",
              "      <td>1</td>\n",
              "      <td>0</td>\n",
              "    </tr>\n",
              "    <tr>\n",
              "      <th>893</th>\n",
              "      <td>3</td>\n",
              "      <td>1.343825</td>\n",
              "      <td>0.554912</td>\n",
              "      <td>0.0</td>\n",
              "      <td>0.093407</td>\n",
              "      <td>-0.501240</td>\n",
              "      <td>0</td>\n",
              "      <td>1</td>\n",
              "      <td>0</td>\n",
              "      <td>0</td>\n",
              "      <td>0</td>\n",
              "      <td>1</td>\n",
              "    </tr>\n",
              "    <tr>\n",
              "      <th>894</th>\n",
              "      <td>2</td>\n",
              "      <td>2.490174</td>\n",
              "      <td>-0.501833</td>\n",
              "      <td>0.0</td>\n",
              "      <td>-0.092793</td>\n",
              "      <td>-0.447433</td>\n",
              "      <td>1</td>\n",
              "      <td>0</td>\n",
              "      <td>1</td>\n",
              "      <td>0</td>\n",
              "      <td>1</td>\n",
              "      <td>0</td>\n",
              "    </tr>\n",
              "    <tr>\n",
              "      <th>895</th>\n",
              "      <td>3</td>\n",
              "      <td>-0.184639</td>\n",
              "      <td>-0.501833</td>\n",
              "      <td>0.0</td>\n",
              "      <td>0.020562</td>\n",
              "      <td>-0.467955</td>\n",
              "      <td>1</td>\n",
              "      <td>0</td>\n",
              "      <td>1</td>\n",
              "      <td>0</td>\n",
              "      <td>0</td>\n",
              "      <td>1</td>\n",
              "    </tr>\n",
              "    <tr>\n",
              "      <th>896</th>\n",
              "      <td>3</td>\n",
              "      <td>-0.566755</td>\n",
              "      <td>0.554912</td>\n",
              "      <td>1.0</td>\n",
              "      <td>4.238421</td>\n",
              "      <td>-0.395378</td>\n",
              "      <td>0</td>\n",
              "      <td>1</td>\n",
              "      <td>0</td>\n",
              "      <td>0</td>\n",
              "      <td>0</td>\n",
              "      <td>1</td>\n",
              "    </tr>\n",
              "    <tr>\n",
              "      <th>...</th>\n",
              "      <td>...</td>\n",
              "      <td>...</td>\n",
              "      <td>...</td>\n",
              "      <td>...</td>\n",
              "      <td>...</td>\n",
              "      <td>...</td>\n",
              "      <td>...</td>\n",
              "      <td>...</td>\n",
              "      <td>...</td>\n",
              "      <td>...</td>\n",
              "      <td>...</td>\n",
              "      <td>...</td>\n",
              "    </tr>\n",
              "    <tr>\n",
              "      <th>1305</th>\n",
              "      <td>3</td>\n",
              "      <td>-0.108216</td>\n",
              "      <td>-0.501833</td>\n",
              "      <td>0.0</td>\n",
              "      <td>-0.451641</td>\n",
              "      <td>-0.480218</td>\n",
              "      <td>1</td>\n",
              "      <td>0</td>\n",
              "      <td>1</td>\n",
              "      <td>0</td>\n",
              "      <td>0</td>\n",
              "      <td>1</td>\n",
              "    </tr>\n",
              "    <tr>\n",
              "      <th>1306</th>\n",
              "      <td>1</td>\n",
              "      <td>0.732440</td>\n",
              "      <td>-0.501833</td>\n",
              "      <td>0.0</td>\n",
              "      <td>-0.429657</td>\n",
              "      <td>1.538929</td>\n",
              "      <td>1</td>\n",
              "      <td>1</td>\n",
              "      <td>0</td>\n",
              "      <td>1</td>\n",
              "      <td>0</td>\n",
              "      <td>0</td>\n",
              "    </tr>\n",
              "    <tr>\n",
              "      <th>1307</th>\n",
              "      <td>3</td>\n",
              "      <td>0.694228</td>\n",
              "      <td>-0.501833</td>\n",
              "      <td>0.0</td>\n",
              "      <td>4.238366</td>\n",
              "      <td>-0.496235</td>\n",
              "      <td>1</td>\n",
              "      <td>0</td>\n",
              "      <td>1</td>\n",
              "      <td>0</td>\n",
              "      <td>0</td>\n",
              "      <td>1</td>\n",
              "    </tr>\n",
              "    <tr>\n",
              "      <th>1308</th>\n",
              "      <td>3</td>\n",
              "      <td>-0.108216</td>\n",
              "      <td>-0.501833</td>\n",
              "      <td>0.0</td>\n",
              "      <td>0.087407</td>\n",
              "      <td>-0.480218</td>\n",
              "      <td>1</td>\n",
              "      <td>0</td>\n",
              "      <td>1</td>\n",
              "      <td>0</td>\n",
              "      <td>0</td>\n",
              "      <td>1</td>\n",
              "    </tr>\n",
              "    <tr>\n",
              "      <th>1309</th>\n",
              "      <td>3</td>\n",
              "      <td>-0.108216</td>\n",
              "      <td>0.554912</td>\n",
              "      <td>1.0</td>\n",
              "      <td>-0.452501</td>\n",
              "      <td>-0.193747</td>\n",
              "      <td>0</td>\n",
              "      <td>0</td>\n",
              "      <td>1</td>\n",
              "      <td>1</td>\n",
              "      <td>0</td>\n",
              "      <td>0</td>\n",
              "    </tr>\n",
              "  </tbody>\n",
              "</table>\n",
              "<p>418 rows × 12 columns</p>\n",
              "</div>\n",
              "      <button class=\"colab-df-convert\" onclick=\"convertToInteractive('df-d4a26217-f73c-4565-a4a8-1864bee1cfdd')\"\n",
              "              title=\"Convert this dataframe to an interactive table.\"\n",
              "              style=\"display:none;\">\n",
              "        \n",
              "  <svg xmlns=\"http://www.w3.org/2000/svg\" height=\"24px\"viewBox=\"0 0 24 24\"\n",
              "       width=\"24px\">\n",
              "    <path d=\"M0 0h24v24H0V0z\" fill=\"none\"/>\n",
              "    <path d=\"M18.56 5.44l.94 2.06.94-2.06 2.06-.94-2.06-.94-.94-2.06-.94 2.06-2.06.94zm-11 1L8.5 8.5l.94-2.06 2.06-.94-2.06-.94L8.5 2.5l-.94 2.06-2.06.94zm10 10l.94 2.06.94-2.06 2.06-.94-2.06-.94-.94-2.06-.94 2.06-2.06.94z\"/><path d=\"M17.41 7.96l-1.37-1.37c-.4-.4-.92-.59-1.43-.59-.52 0-1.04.2-1.43.59L10.3 9.45l-7.72 7.72c-.78.78-.78 2.05 0 2.83L4 21.41c.39.39.9.59 1.41.59.51 0 1.02-.2 1.41-.59l7.78-7.78 2.81-2.81c.8-.78.8-2.07 0-2.86zM5.41 20L4 18.59l7.72-7.72 1.47 1.35L5.41 20z\"/>\n",
              "  </svg>\n",
              "      </button>\n",
              "      \n",
              "  <style>\n",
              "    .colab-df-container {\n",
              "      display:flex;\n",
              "      flex-wrap:wrap;\n",
              "      gap: 12px;\n",
              "    }\n",
              "\n",
              "    .colab-df-convert {\n",
              "      background-color: #E8F0FE;\n",
              "      border: none;\n",
              "      border-radius: 50%;\n",
              "      cursor: pointer;\n",
              "      display: none;\n",
              "      fill: #1967D2;\n",
              "      height: 32px;\n",
              "      padding: 0 0 0 0;\n",
              "      width: 32px;\n",
              "    }\n",
              "\n",
              "    .colab-df-convert:hover {\n",
              "      background-color: #E2EBFA;\n",
              "      box-shadow: 0px 1px 2px rgba(60, 64, 67, 0.3), 0px 1px 3px 1px rgba(60, 64, 67, 0.15);\n",
              "      fill: #174EA6;\n",
              "    }\n",
              "\n",
              "    [theme=dark] .colab-df-convert {\n",
              "      background-color: #3B4455;\n",
              "      fill: #D2E3FC;\n",
              "    }\n",
              "\n",
              "    [theme=dark] .colab-df-convert:hover {\n",
              "      background-color: #434B5C;\n",
              "      box-shadow: 0px 1px 3px 1px rgba(0, 0, 0, 0.15);\n",
              "      filter: drop-shadow(0px 1px 2px rgba(0, 0, 0, 0.3));\n",
              "      fill: #FFFFFF;\n",
              "    }\n",
              "  </style>\n",
              "\n",
              "      <script>\n",
              "        const buttonEl =\n",
              "          document.querySelector('#df-d4a26217-f73c-4565-a4a8-1864bee1cfdd button.colab-df-convert');\n",
              "        buttonEl.style.display =\n",
              "          google.colab.kernel.accessAllowed ? 'block' : 'none';\n",
              "\n",
              "        async function convertToInteractive(key) {\n",
              "          const element = document.querySelector('#df-d4a26217-f73c-4565-a4a8-1864bee1cfdd');\n",
              "          const dataTable =\n",
              "            await google.colab.kernel.invokeFunction('convertToInteractive',\n",
              "                                                     [key], {});\n",
              "          if (!dataTable) return;\n",
              "\n",
              "          const docLinkHtml = 'Like what you see? Visit the ' +\n",
              "            '<a target=\"_blank\" href=https://colab.research.google.com/notebooks/data_table.ipynb>data table notebook</a>'\n",
              "            + ' to learn more about interactive tables.';\n",
              "          element.innerHTML = '';\n",
              "          dataTable['output_type'] = 'display_data';\n",
              "          await google.colab.output.renderOutput(dataTable, element);\n",
              "          const docLink = document.createElement('div');\n",
              "          docLink.innerHTML = docLinkHtml;\n",
              "          element.appendChild(docLink);\n",
              "        }\n",
              "      </script>\n",
              "    </div>\n",
              "  </div>\n",
              "  "
            ],
            "text/plain": [
              "             Pclass       Age     SibSp  ...  Embarked_C  Embarked_Q  Embarked_S\n",
              "PassengerId                              ...                                    \n",
              "892               3  0.388535 -0.501833  ...           0           1           0\n",
              "893               3  1.343825  0.554912  ...           0           0           1\n",
              "894               2  2.490174 -0.501833  ...           0           1           0\n",
              "895               3 -0.184639 -0.501833  ...           0           0           1\n",
              "896               3 -0.566755  0.554912  ...           0           0           1\n",
              "...             ...       ...       ...  ...         ...         ...         ...\n",
              "1305              3 -0.108216 -0.501833  ...           0           0           1\n",
              "1306              1  0.732440 -0.501833  ...           1           0           0\n",
              "1307              3  0.694228 -0.501833  ...           0           0           1\n",
              "1308              3 -0.108216 -0.501833  ...           0           0           1\n",
              "1309              3 -0.108216  0.554912  ...           1           0           0\n",
              "\n",
              "[418 rows x 12 columns]"
            ]
          },
          "metadata": {},
          "execution_count": 75
        }
      ]
    },
    {
      "cell_type": "code",
      "source": [
        "test_df.info()"
      ],
      "metadata": {
        "colab": {
          "base_uri": "https://localhost:8080/"
        },
        "id": "sznCq9O6dbMi",
        "outputId": "21b7ad1f-d09d-4cbe-a113-b1dc2107480f"
      },
      "execution_count": null,
      "outputs": [
        {
          "output_type": "stream",
          "name": "stdout",
          "text": [
            "<class 'pandas.core.frame.DataFrame'>\n",
            "Int64Index: 418 entries, 892 to 1309\n",
            "Data columns (total 12 columns):\n",
            " #   Column      Non-Null Count  Dtype  \n",
            "---  ------      --------------  -----  \n",
            " 0   Pclass      418 non-null    int64  \n",
            " 1   Age         418 non-null    float64\n",
            " 2   SibSp       418 non-null    float64\n",
            " 3   Parch       418 non-null    float64\n",
            " 4   Ticket      418 non-null    float64\n",
            " 5   Fare        418 non-null    float64\n",
            " 6   IsAlone     418 non-null    int64  \n",
            " 7   Sex_female  418 non-null    uint8  \n",
            " 8   Sex_male    418 non-null    uint8  \n",
            " 9   Embarked_C  418 non-null    uint8  \n",
            " 10  Embarked_Q  418 non-null    uint8  \n",
            " 11  Embarked_S  418 non-null    uint8  \n",
            "dtypes: float64(5), int64(2), uint8(5)\n",
            "memory usage: 28.2 KB\n"
          ]
        }
      ]
    },
    {
      "cell_type": "code",
      "source": [
        "test_preds_xbg=grid_search.predict(test_df)\n",
        "test_preds_svm=svm_model.predict(test_df)\n",
        "y_test=nn_model.predict(test_df)\n",
        "y_test=np.apply_along_axis(lambda x : 1 if x >=0.5 else 0 ,axis=1,arr=y_test)\n",
        "test_preds_nn=y_test"
      ],
      "metadata": {
        "id": "qNTZhpK_rLl-"
      },
      "execution_count": null,
      "outputs": []
    },
    {
      "cell_type": "code",
      "source": [
        "output_xgb = pd.DataFrame({'PassengerId': test_df.index,\n",
        "                       'Survived': test_preds_xbg})\n",
        "output_xgb.to_csv('submission_xgb4.0.csv', index=False)\n",
        "\n",
        "output_nn = pd.DataFrame({'PassengerId': test_df.index,\n",
        "                       'Survived': test_preds_svm})\n",
        "output_nn.to_csv('submission_svm3.0.csv', index=False)\n",
        "\n",
        "output_nn = pd.DataFrame({'PassengerId': test_df.index,\n",
        "                       'Survived': test_preds_nn})\n",
        "output_nn.to_csv('submission_nn3.0.csv', index=False)"
      ],
      "metadata": {
        "id": "_DoPhP2Vhsmx"
      },
      "execution_count": null,
      "outputs": []
    },
    {
      "cell_type": "code",
      "source": [
        ""
      ],
      "metadata": {
        "id": "xTAeICI1t552"
      },
      "execution_count": null,
      "outputs": []
    }
  ]
}